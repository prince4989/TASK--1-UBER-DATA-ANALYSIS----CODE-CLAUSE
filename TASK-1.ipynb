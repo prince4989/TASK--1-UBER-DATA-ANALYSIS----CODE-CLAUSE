{
 "cells": [
  {
   "cell_type": "markdown",
   "metadata": {},
   "source": [
    "## <font color=red>BY PRINCE K\n",
    "\n",
    "\n",
    "# <center> <font color=red> Task-1: UBER DATA ANALYSIS\n"
   ]
  },
  {
   "cell_type": "markdown",
   "metadata": {},
   "source": [
    "### Dataset:  My Uber Drives (2016)\n",
    "### The dataset contains Start Date, End Date, Start Location, End Location, Miles Driven and Purpose of drive (Business, Personal, Meals, Errands, Meetings, Customer Support etc.) is taken from kaggle."
   ]
  },
  {
   "cell_type": "code",
   "execution_count": 1,
   "metadata": {
    "_cell_guid": "b1076dfc-b9ad-4769-8c92-a6c4dae69d19",
    "_uuid": "8f2839f25d086af736a60e9eeb907d3b93b6e0e5",
    "execution": {
     "iopub.execute_input": "2021-06-23T11:21:33.669942Z",
     "iopub.status.busy": "2021-06-23T11:21:33.669235Z",
     "iopub.status.idle": "2021-06-23T11:21:35.082560Z",
     "shell.execute_reply": "2021-06-23T11:21:35.083078Z",
     "shell.execute_reply.started": "2021-05-27T09:01:10.850628Z"
    },
    "papermill": {
     "duration": 1.486625,
     "end_time": "2021-06-23T11:21:35.083384",
     "exception": false,
     "start_time": "2021-06-23T11:21:33.596759",
     "status": "completed"
    },
    "tags": []
   },
   "outputs": [],
   "source": [
    "import numpy as np # linear algebra\n",
    "import pandas as pd # data processing, CSV file I/O (e.g. pd.read_csv)\n",
    "import matplotlib.pyplot as plt\n",
    "import seaborn as sns\n",
    "import networkx as nx"
   ]
  },
  {
   "cell_type": "markdown",
   "metadata": {
    "papermill": {
     "duration": 0.056544,
     "end_time": "2021-06-23T11:21:35.310567",
     "exception": false,
     "start_time": "2021-06-23T11:21:35.254023",
     "status": "completed"
    },
    "tags": []
   },
   "source": [
    "<a id=\"1\"></a>\n",
    "<font color=\"darkslateblue\" size=+2.5><b>1. Data Exploration </b></font>\n",
    "\n"
   ]
  },
  {
   "cell_type": "code",
   "execution_count": 2,
   "metadata": {
    "execution": {
     "iopub.execute_input": "2021-06-23T11:21:35.428375Z",
     "iopub.status.busy": "2021-06-23T11:21:35.427397Z",
     "iopub.status.idle": "2021-06-23T11:21:35.446848Z",
     "shell.execute_reply": "2021-06-23T11:21:35.446193Z",
     "shell.execute_reply.started": "2021-05-27T07:36:38.676479Z"
    },
    "papermill": {
     "duration": 0.079386,
     "end_time": "2021-06-23T11:21:35.446995",
     "exception": false,
     "start_time": "2021-06-23T11:21:35.367609",
     "status": "completed"
    },
    "tags": []
   },
   "outputs": [],
   "source": [
    "uber_df = pd.read_csv(\"/kaggle/input/uberdrives/My Uber Drives - 2016.csv\")"
   ]
  },
  {
   "cell_type": "code",
   "execution_count": 3,
   "metadata": {
    "execution": {
     "iopub.execute_input": "2021-06-23T11:21:35.565215Z",
     "iopub.status.busy": "2021-06-23T11:21:35.564221Z",
     "iopub.status.idle": "2021-06-23T11:21:35.595797Z",
     "shell.execute_reply": "2021-06-23T11:21:35.596417Z",
     "shell.execute_reply.started": "2021-05-27T07:36:38.696513Z"
    },
    "papermill": {
     "duration": 0.092278,
     "end_time": "2021-06-23T11:21:35.596587",
     "exception": false,
     "start_time": "2021-06-23T11:21:35.504309",
     "status": "completed"
    },
    "tags": []
   },
   "outputs": [
    {
     "data": {
      "text/html": [
       "<div>\n",
       "<style scoped>\n",
       "    .dataframe tbody tr th:only-of-type {\n",
       "        vertical-align: middle;\n",
       "    }\n",
       "\n",
       "    .dataframe tbody tr th {\n",
       "        vertical-align: top;\n",
       "    }\n",
       "\n",
       "    .dataframe thead th {\n",
       "        text-align: right;\n",
       "    }\n",
       "</style>\n",
       "<table border=\"1\" class=\"dataframe\">\n",
       "  <thead>\n",
       "    <tr style=\"text-align: right;\">\n",
       "      <th></th>\n",
       "      <th>START_DATE*</th>\n",
       "      <th>END_DATE*</th>\n",
       "      <th>CATEGORY*</th>\n",
       "      <th>START*</th>\n",
       "      <th>STOP*</th>\n",
       "      <th>MILES*</th>\n",
       "      <th>PURPOSE*</th>\n",
       "    </tr>\n",
       "  </thead>\n",
       "  <tbody>\n",
       "    <tr>\n",
       "      <th>0</th>\n",
       "      <td>1/1/2016 21:11</td>\n",
       "      <td>1/1/2016 21:17</td>\n",
       "      <td>Business</td>\n",
       "      <td>Fort Pierce</td>\n",
       "      <td>Fort Pierce</td>\n",
       "      <td>5.1</td>\n",
       "      <td>Meal/Entertain</td>\n",
       "    </tr>\n",
       "    <tr>\n",
       "      <th>1</th>\n",
       "      <td>1/2/2016 1:25</td>\n",
       "      <td>1/2/2016 1:37</td>\n",
       "      <td>Business</td>\n",
       "      <td>Fort Pierce</td>\n",
       "      <td>Fort Pierce</td>\n",
       "      <td>5.0</td>\n",
       "      <td>NaN</td>\n",
       "    </tr>\n",
       "    <tr>\n",
       "      <th>2</th>\n",
       "      <td>1/2/2016 20:25</td>\n",
       "      <td>1/2/2016 20:38</td>\n",
       "      <td>Business</td>\n",
       "      <td>Fort Pierce</td>\n",
       "      <td>Fort Pierce</td>\n",
       "      <td>4.8</td>\n",
       "      <td>Errand/Supplies</td>\n",
       "    </tr>\n",
       "    <tr>\n",
       "      <th>3</th>\n",
       "      <td>1/5/2016 17:31</td>\n",
       "      <td>1/5/2016 17:45</td>\n",
       "      <td>Business</td>\n",
       "      <td>Fort Pierce</td>\n",
       "      <td>Fort Pierce</td>\n",
       "      <td>4.7</td>\n",
       "      <td>Meeting</td>\n",
       "    </tr>\n",
       "    <tr>\n",
       "      <th>4</th>\n",
       "      <td>1/6/2016 14:42</td>\n",
       "      <td>1/6/2016 15:49</td>\n",
       "      <td>Business</td>\n",
       "      <td>Fort Pierce</td>\n",
       "      <td>West Palm Beach</td>\n",
       "      <td>63.7</td>\n",
       "      <td>Customer Visit</td>\n",
       "    </tr>\n",
       "  </tbody>\n",
       "</table>\n",
       "</div>"
      ],
      "text/plain": [
       "      START_DATE*       END_DATE* CATEGORY*       START*            STOP*  \\\n",
       "0  1/1/2016 21:11  1/1/2016 21:17  Business  Fort Pierce      Fort Pierce   \n",
       "1   1/2/2016 1:25   1/2/2016 1:37  Business  Fort Pierce      Fort Pierce   \n",
       "2  1/2/2016 20:25  1/2/2016 20:38  Business  Fort Pierce      Fort Pierce   \n",
       "3  1/5/2016 17:31  1/5/2016 17:45  Business  Fort Pierce      Fort Pierce   \n",
       "4  1/6/2016 14:42  1/6/2016 15:49  Business  Fort Pierce  West Palm Beach   \n",
       "\n",
       "   MILES*         PURPOSE*  \n",
       "0     5.1   Meal/Entertain  \n",
       "1     5.0              NaN  \n",
       "2     4.8  Errand/Supplies  \n",
       "3     4.7          Meeting  \n",
       "4    63.7   Customer Visit  "
      ]
     },
     "execution_count": 3,
     "metadata": {},
     "output_type": "execute_result"
    }
   ],
   "source": [
    "# First 5 records \n",
    "uber_df.head()"
   ]
  },
  {
   "cell_type": "code",
   "execution_count": 4,
   "metadata": {
    "execution": {
     "iopub.execute_input": "2021-06-23T11:21:35.715218Z",
     "iopub.status.busy": "2021-06-23T11:21:35.714252Z",
     "iopub.status.idle": "2021-06-23T11:21:35.727989Z",
     "shell.execute_reply": "2021-06-23T11:21:35.728462Z",
     "shell.execute_reply.started": "2021-05-27T07:36:38.726492Z"
    },
    "papermill": {
     "duration": 0.074776,
     "end_time": "2021-06-23T11:21:35.728635",
     "exception": false,
     "start_time": "2021-06-23T11:21:35.653859",
     "status": "completed"
    },
    "tags": []
   },
   "outputs": [
    {
     "data": {
      "text/html": [
       "<div>\n",
       "<style scoped>\n",
       "    .dataframe tbody tr th:only-of-type {\n",
       "        vertical-align: middle;\n",
       "    }\n",
       "\n",
       "    .dataframe tbody tr th {\n",
       "        vertical-align: top;\n",
       "    }\n",
       "\n",
       "    .dataframe thead th {\n",
       "        text-align: right;\n",
       "    }\n",
       "</style>\n",
       "<table border=\"1\" class=\"dataframe\">\n",
       "  <thead>\n",
       "    <tr style=\"text-align: right;\">\n",
       "      <th></th>\n",
       "      <th>START_DATE*</th>\n",
       "      <th>END_DATE*</th>\n",
       "      <th>CATEGORY*</th>\n",
       "      <th>START*</th>\n",
       "      <th>STOP*</th>\n",
       "      <th>MILES*</th>\n",
       "      <th>PURPOSE*</th>\n",
       "    </tr>\n",
       "  </thead>\n",
       "  <tbody>\n",
       "    <tr>\n",
       "      <th>1151</th>\n",
       "      <td>12/31/2016 13:24</td>\n",
       "      <td>12/31/2016 13:42</td>\n",
       "      <td>Business</td>\n",
       "      <td>Kar?chi</td>\n",
       "      <td>Unknown Location</td>\n",
       "      <td>3.9</td>\n",
       "      <td>Temporary Site</td>\n",
       "    </tr>\n",
       "    <tr>\n",
       "      <th>1152</th>\n",
       "      <td>12/31/2016 15:03</td>\n",
       "      <td>12/31/2016 15:38</td>\n",
       "      <td>Business</td>\n",
       "      <td>Unknown Location</td>\n",
       "      <td>Unknown Location</td>\n",
       "      <td>16.2</td>\n",
       "      <td>Meeting</td>\n",
       "    </tr>\n",
       "    <tr>\n",
       "      <th>1153</th>\n",
       "      <td>12/31/2016 21:32</td>\n",
       "      <td>12/31/2016 21:50</td>\n",
       "      <td>Business</td>\n",
       "      <td>Katunayake</td>\n",
       "      <td>Gampaha</td>\n",
       "      <td>6.4</td>\n",
       "      <td>Temporary Site</td>\n",
       "    </tr>\n",
       "    <tr>\n",
       "      <th>1154</th>\n",
       "      <td>12/31/2016 22:08</td>\n",
       "      <td>12/31/2016 23:51</td>\n",
       "      <td>Business</td>\n",
       "      <td>Gampaha</td>\n",
       "      <td>Ilukwatta</td>\n",
       "      <td>48.2</td>\n",
       "      <td>Temporary Site</td>\n",
       "    </tr>\n",
       "    <tr>\n",
       "      <th>1155</th>\n",
       "      <td>Totals</td>\n",
       "      <td>NaN</td>\n",
       "      <td>NaN</td>\n",
       "      <td>NaN</td>\n",
       "      <td>NaN</td>\n",
       "      <td>12204.7</td>\n",
       "      <td>NaN</td>\n",
       "    </tr>\n",
       "  </tbody>\n",
       "</table>\n",
       "</div>"
      ],
      "text/plain": [
       "           START_DATE*         END_DATE* CATEGORY*            START*  \\\n",
       "1151  12/31/2016 13:24  12/31/2016 13:42  Business           Kar?chi   \n",
       "1152  12/31/2016 15:03  12/31/2016 15:38  Business  Unknown Location   \n",
       "1153  12/31/2016 21:32  12/31/2016 21:50  Business        Katunayake   \n",
       "1154  12/31/2016 22:08  12/31/2016 23:51  Business           Gampaha   \n",
       "1155            Totals               NaN       NaN               NaN   \n",
       "\n",
       "                 STOP*   MILES*        PURPOSE*  \n",
       "1151  Unknown Location      3.9  Temporary Site  \n",
       "1152  Unknown Location     16.2         Meeting  \n",
       "1153           Gampaha      6.4  Temporary Site  \n",
       "1154         Ilukwatta     48.2  Temporary Site  \n",
       "1155               NaN  12204.7             NaN  "
      ]
     },
     "execution_count": 4,
     "metadata": {},
     "output_type": "execute_result"
    }
   ],
   "source": [
    "# Last 5 records \n",
    "uber_df.tail()"
   ]
  },
  {
   "cell_type": "code",
   "execution_count": 5,
   "metadata": {
    "execution": {
     "iopub.execute_input": "2021-06-23T11:21:35.847962Z",
     "iopub.status.busy": "2021-06-23T11:21:35.846966Z",
     "iopub.status.idle": "2021-06-23T11:21:35.853309Z",
     "shell.execute_reply": "2021-06-23T11:21:35.853778Z",
     "shell.execute_reply.started": "2021-05-27T07:36:38.741115Z"
    },
    "papermill": {
     "duration": 0.067754,
     "end_time": "2021-06-23T11:21:35.853948",
     "exception": false,
     "start_time": "2021-06-23T11:21:35.786194",
     "status": "completed"
    },
    "tags": []
   },
   "outputs": [
    {
     "name": "stdout",
     "output_type": "stream",
     "text": [
      "(1156, 7)\n",
      "8092\n"
     ]
    }
   ],
   "source": [
    "# The  shape and size of data \n",
    "print(uber_df.shape)\n",
    "print (uber_df.size)"
   ]
  },
  {
   "cell_type": "markdown",
   "metadata": {
    "papermill": {
     "duration": 0.057724,
     "end_time": "2021-06-23T11:21:35.969575",
     "exception": false,
     "start_time": "2021-06-23T11:21:35.911851",
     "status": "completed"
    },
    "tags": []
   },
   "source": [
    "* The dataset has 1156 rows and 7 columns . The total size of the dataset is 8092"
   ]
  },
  {
   "cell_type": "code",
   "execution_count": 6,
   "metadata": {
    "execution": {
     "iopub.execute_input": "2021-06-23T11:21:36.092430Z",
     "iopub.status.busy": "2021-06-23T11:21:36.091767Z",
     "iopub.status.idle": "2021-06-23T11:21:36.094731Z",
     "shell.execute_reply": "2021-06-23T11:21:36.095221Z",
     "shell.execute_reply.started": "2021-05-27T07:36:38.75476Z"
    },
    "papermill": {
     "duration": 0.06769,
     "end_time": "2021-06-23T11:21:36.095403",
     "exception": false,
     "start_time": "2021-06-23T11:21:36.027713",
     "status": "completed"
    },
    "tags": []
   },
   "outputs": [
    {
     "data": {
      "text/plain": [
       "Index(['START_DATE*', 'END_DATE*', 'CATEGORY*', 'START*', 'STOP*', 'MILES*',\n",
       "       'PURPOSE*'],\n",
       "      dtype='object')"
      ]
     },
     "execution_count": 6,
     "metadata": {},
     "output_type": "execute_result"
    }
   ],
   "source": [
    "# Columns names \n",
    "uber_df.columns"
   ]
  },
  {
   "cell_type": "code",
   "execution_count": 7,
   "metadata": {
    "execution": {
     "iopub.execute_input": "2021-06-23T11:21:36.216124Z",
     "iopub.status.busy": "2021-06-23T11:21:36.215444Z",
     "iopub.status.idle": "2021-06-23T11:21:36.221584Z",
     "shell.execute_reply": "2021-06-23T11:21:36.222100Z",
     "shell.execute_reply.started": "2021-05-27T07:36:38.768394Z"
    },
    "papermill": {
     "duration": 0.06809,
     "end_time": "2021-06-23T11:21:36.222301",
     "exception": false,
     "start_time": "2021-06-23T11:21:36.154211",
     "status": "completed"
    },
    "tags": []
   },
   "outputs": [
    {
     "data": {
      "text/plain": [
       "START_DATE*     object\n",
       "END_DATE*       object\n",
       "CATEGORY*       object\n",
       "START*          object\n",
       "STOP*           object\n",
       "MILES*         float64\n",
       "PURPOSE*        object\n",
       "dtype: object"
      ]
     },
     "execution_count": 7,
     "metadata": {},
     "output_type": "execute_result"
    }
   ],
   "source": [
    "# Data  type of the columns \n",
    "\n",
    "uber_df.dtypes"
   ]
  },
  {
   "cell_type": "code",
   "execution_count": 8,
   "metadata": {
    "execution": {
     "iopub.execute_input": "2021-06-23T11:21:36.362458Z",
     "iopub.status.busy": "2021-06-23T11:21:36.361755Z",
     "iopub.status.idle": "2021-06-23T11:21:36.364507Z",
     "shell.execute_reply": "2021-06-23T11:21:36.365031Z",
     "shell.execute_reply.started": "2021-05-27T07:36:38.784Z"
    },
    "papermill": {
     "duration": 0.083517,
     "end_time": "2021-06-23T11:21:36.365198",
     "exception": false,
     "start_time": "2021-06-23T11:21:36.281681",
     "status": "completed"
    },
    "tags": []
   },
   "outputs": [
    {
     "name": "stdout",
     "output_type": "stream",
     "text": [
      "<class 'pandas.core.frame.DataFrame'>\n",
      "RangeIndex: 1156 entries, 0 to 1155\n",
      "Data columns (total 7 columns):\n",
      " #   Column       Non-Null Count  Dtype  \n",
      "---  ------       --------------  -----  \n",
      " 0   START_DATE*  1156 non-null   object \n",
      " 1   END_DATE*    1155 non-null   object \n",
      " 2   CATEGORY*    1155 non-null   object \n",
      " 3   START*       1155 non-null   object \n",
      " 4   STOP*        1155 non-null   object \n",
      " 5   MILES*       1156 non-null   float64\n",
      " 6   PURPOSE*     653 non-null    object \n",
      "dtypes: float64(1), object(6)\n",
      "memory usage: 63.3+ KB\n"
     ]
    }
   ],
   "source": [
    "#get more information about data\n",
    "uber_df.info()"
   ]
  },
  {
   "cell_type": "markdown",
   "metadata": {
    "papermill": {
     "duration": 0.059186,
     "end_time": "2021-06-23T11:21:36.484781",
     "exception": false,
     "start_time": "2021-06-23T11:21:36.425595",
     "status": "completed"
    },
    "tags": []
   },
   "source": [
    "**The dataset has 1 numerical variable and 6 categorical variables** <br>\n",
    "**The \"PURPOSE\" column has many missing values**"
   ]
  },
  {
   "cell_type": "code",
   "execution_count": 9,
   "metadata": {
    "execution": {
     "iopub.execute_input": "2021-06-23T11:21:36.606480Z",
     "iopub.status.busy": "2021-06-23T11:21:36.605800Z",
     "iopub.status.idle": "2021-06-23T11:21:36.613201Z",
     "shell.execute_reply": "2021-06-23T11:21:36.613715Z",
     "shell.execute_reply.started": "2021-05-27T07:36:38.807737Z"
    },
    "papermill": {
     "duration": 0.070044,
     "end_time": "2021-06-23T11:21:36.613881",
     "exception": false,
     "start_time": "2021-06-23T11:21:36.543837",
     "status": "completed"
    },
    "tags": []
   },
   "outputs": [
    {
     "data": {
      "text/plain": [
       "START_DATE*    False\n",
       "END_DATE*       True\n",
       "CATEGORY*       True\n",
       "START*          True\n",
       "STOP*           True\n",
       "MILES*         False\n",
       "PURPOSE*        True\n",
       "dtype: bool"
      ]
     },
     "execution_count": 9,
     "metadata": {},
     "output_type": "execute_result"
    }
   ],
   "source": [
    "# Check the missing values \n",
    "uber_df.isnull().any()\n"
   ]
  },
  {
   "cell_type": "code",
   "execution_count": 10,
   "metadata": {
    "execution": {
     "iopub.execute_input": "2021-06-23T11:21:36.736106Z",
     "iopub.status.busy": "2021-06-23T11:21:36.735500Z",
     "iopub.status.idle": "2021-06-23T11:21:36.743340Z",
     "shell.execute_reply": "2021-06-23T11:21:36.742832Z",
     "shell.execute_reply.started": "2021-05-27T07:36:38.818749Z"
    },
    "papermill": {
     "duration": 0.069646,
     "end_time": "2021-06-23T11:21:36.743478",
     "exception": false,
     "start_time": "2021-06-23T11:21:36.673832",
     "status": "completed"
    },
    "tags": []
   },
   "outputs": [
    {
     "data": {
      "text/plain": [
       "START_DATE*      0\n",
       "END_DATE*        1\n",
       "CATEGORY*        1\n",
       "START*           1\n",
       "STOP*            1\n",
       "MILES*           0\n",
       "PURPOSE*       503\n",
       "dtype: int64"
      ]
     },
     "execution_count": 10,
     "metadata": {},
     "output_type": "execute_result"
    }
   ],
   "source": [
    "#Get the number of missing values in each column\n",
    "uber_df.isnull().sum()"
   ]
  },
  {
   "cell_type": "markdown",
   "metadata": {
    "papermill": {
     "duration": 0.059951,
     "end_time": "2021-06-23T11:21:36.863911",
     "exception": false,
     "start_time": "2021-06-23T11:21:36.803960",
     "status": "completed"
    },
    "tags": []
   },
   "source": [
    "**From the above it is clear that is there is one null data which needs**"
   ]
  },
  {
   "cell_type": "code",
   "execution_count": 11,
   "metadata": {
    "execution": {
     "iopub.execute_input": "2021-06-23T11:21:36.997923Z",
     "iopub.status.busy": "2021-06-23T11:21:36.996963Z",
     "iopub.status.idle": "2021-06-23T11:21:37.001578Z",
     "shell.execute_reply": "2021-06-23T11:21:37.000949Z",
     "shell.execute_reply.started": "2021-05-27T07:36:38.831713Z"
    },
    "papermill": {
     "duration": 0.076977,
     "end_time": "2021-06-23T11:21:37.001715",
     "exception": false,
     "start_time": "2021-06-23T11:21:36.924738",
     "status": "completed"
    },
    "tags": []
   },
   "outputs": [
    {
     "data": {
      "text/html": [
       "<div>\n",
       "<style scoped>\n",
       "    .dataframe tbody tr th:only-of-type {\n",
       "        vertical-align: middle;\n",
       "    }\n",
       "\n",
       "    .dataframe tbody tr th {\n",
       "        vertical-align: top;\n",
       "    }\n",
       "\n",
       "    .dataframe thead th {\n",
       "        text-align: right;\n",
       "    }\n",
       "</style>\n",
       "<table border=\"1\" class=\"dataframe\">\n",
       "  <thead>\n",
       "    <tr style=\"text-align: right;\">\n",
       "      <th></th>\n",
       "      <th>START_DATE*</th>\n",
       "      <th>END_DATE*</th>\n",
       "      <th>CATEGORY*</th>\n",
       "      <th>START*</th>\n",
       "      <th>STOP*</th>\n",
       "      <th>MILES*</th>\n",
       "      <th>PURPOSE*</th>\n",
       "    </tr>\n",
       "  </thead>\n",
       "  <tbody>\n",
       "    <tr>\n",
       "      <th>1155</th>\n",
       "      <td>Totals</td>\n",
       "      <td>NaN</td>\n",
       "      <td>NaN</td>\n",
       "      <td>NaN</td>\n",
       "      <td>NaN</td>\n",
       "      <td>12204.7</td>\n",
       "      <td>NaN</td>\n",
       "    </tr>\n",
       "  </tbody>\n",
       "</table>\n",
       "</div>"
      ],
      "text/plain": [
       "     START_DATE* END_DATE* CATEGORY* START* STOP*   MILES* PURPOSE*\n",
       "1155      Totals       NaN       NaN    NaN   NaN  12204.7      NaN"
      ]
     },
     "execution_count": 11,
     "metadata": {},
     "output_type": "execute_result"
    }
   ],
   "source": [
    "uber_df[uber_df['END_DATE*'].isnull()]"
   ]
  },
  {
   "cell_type": "code",
   "execution_count": 12,
   "metadata": {
    "execution": {
     "iopub.execute_input": "2021-06-23T11:21:37.129682Z",
     "iopub.status.busy": "2021-06-23T11:21:37.128933Z",
     "iopub.status.idle": "2021-06-23T11:21:37.132630Z",
     "shell.execute_reply": "2021-06-23T11:21:37.132063Z",
     "shell.execute_reply.started": "2021-05-27T07:36:38.852768Z"
    },
    "papermill": {
     "duration": 0.070449,
     "end_time": "2021-06-23T11:21:37.132775",
     "exception": false,
     "start_time": "2021-06-23T11:21:37.062326",
     "status": "completed"
    },
    "tags": []
   },
   "outputs": [],
   "source": [
    "uber_df.drop(uber_df.index[1155],inplace=True)\n"
   ]
  },
  {
   "cell_type": "code",
   "execution_count": 13,
   "metadata": {
    "execution": {
     "iopub.execute_input": "2021-06-23T11:21:37.258930Z",
     "iopub.status.busy": "2021-06-23T11:21:37.258205Z",
     "iopub.status.idle": "2021-06-23T11:21:37.272297Z",
     "shell.execute_reply": "2021-06-23T11:21:37.271657Z",
     "shell.execute_reply.started": "2021-05-27T07:36:38.864208Z"
    },
    "papermill": {
     "duration": 0.079476,
     "end_time": "2021-06-23T11:21:37.272434",
     "exception": false,
     "start_time": "2021-06-23T11:21:37.192958",
     "status": "completed"
    },
    "tags": []
   },
   "outputs": [
    {
     "data": {
      "text/html": [
       "<div>\n",
       "<style scoped>\n",
       "    .dataframe tbody tr th:only-of-type {\n",
       "        vertical-align: middle;\n",
       "    }\n",
       "\n",
       "    .dataframe tbody tr th {\n",
       "        vertical-align: top;\n",
       "    }\n",
       "\n",
       "    .dataframe thead th {\n",
       "        text-align: right;\n",
       "    }\n",
       "</style>\n",
       "<table border=\"1\" class=\"dataframe\">\n",
       "  <thead>\n",
       "    <tr style=\"text-align: right;\">\n",
       "      <th></th>\n",
       "      <th>START_DATE*</th>\n",
       "      <th>END_DATE*</th>\n",
       "      <th>CATEGORY*</th>\n",
       "      <th>START*</th>\n",
       "      <th>STOP*</th>\n",
       "      <th>MILES*</th>\n",
       "      <th>PURPOSE*</th>\n",
       "    </tr>\n",
       "  </thead>\n",
       "  <tbody>\n",
       "    <tr>\n",
       "      <th>492</th>\n",
       "      <td>6/28/2016 23:34</td>\n",
       "      <td>6/28/2016 23:59</td>\n",
       "      <td>Business</td>\n",
       "      <td>Durham</td>\n",
       "      <td>Cary</td>\n",
       "      <td>9.9</td>\n",
       "      <td>Meeting</td>\n",
       "    </tr>\n",
       "  </tbody>\n",
       "</table>\n",
       "</div>"
      ],
      "text/plain": [
       "         START_DATE*        END_DATE* CATEGORY*  START* STOP*  MILES* PURPOSE*\n",
       "492  6/28/2016 23:34  6/28/2016 23:59  Business  Durham  Cary     9.9  Meeting"
      ]
     },
     "execution_count": 13,
     "metadata": {},
     "output_type": "execute_result"
    }
   ],
   "source": [
    "#Duplicated Records needs to be removed \n",
    "\n",
    "uber_df[uber_df.duplicated()]"
   ]
  },
  {
   "cell_type": "code",
   "execution_count": 14,
   "metadata": {
    "execution": {
     "iopub.execute_input": "2021-06-23T11:21:37.401049Z",
     "iopub.status.busy": "2021-06-23T11:21:37.399493Z",
     "iopub.status.idle": "2021-06-23T11:21:37.405886Z",
     "shell.execute_reply": "2021-06-23T11:21:37.405362Z",
     "shell.execute_reply.started": "2021-05-27T07:36:38.887631Z"
    },
    "papermill": {
     "duration": 0.072839,
     "end_time": "2021-06-23T11:21:37.406029",
     "exception": false,
     "start_time": "2021-06-23T11:21:37.333190",
     "status": "completed"
    },
    "tags": []
   },
   "outputs": [],
   "source": [
    "# Dropping the duplicates values \n",
    "\n",
    "uber_df.drop_duplicates(inplace=True)\n"
   ]
  },
  {
   "cell_type": "code",
   "execution_count": 15,
   "metadata": {
    "execution": {
     "iopub.execute_input": "2021-06-23T11:21:37.535094Z",
     "iopub.status.busy": "2021-06-23T11:21:37.534431Z",
     "iopub.status.idle": "2021-06-23T11:21:37.554320Z",
     "shell.execute_reply": "2021-06-23T11:21:37.553690Z",
     "shell.execute_reply.started": "2021-05-27T07:36:38.898616Z"
    },
    "papermill": {
     "duration": 0.087378,
     "end_time": "2021-06-23T11:21:37.554458",
     "exception": false,
     "start_time": "2021-06-23T11:21:37.467080",
     "status": "completed"
    },
    "tags": []
   },
   "outputs": [
    {
     "data": {
      "text/plain": [
       "(652, 7)"
      ]
     },
     "execution_count": 15,
     "metadata": {},
     "output_type": "execute_result"
    }
   ],
   "source": [
    "# Get the initial data with dropping the NA values\n",
    "uber_df = uber_df.dropna()\n",
    "\n",
    "#Get the shape of the dataframe after removing the null values\n",
    "uber_df.shape"
   ]
  },
  {
   "cell_type": "markdown",
   "metadata": {
    "papermill": {
     "duration": 0.061335,
     "end_time": "2021-06-23T11:21:37.677055",
     "exception": false,
     "start_time": "2021-06-23T11:21:37.615720",
     "status": "completed"
    },
    "tags": []
   },
   "source": [
    "**The dataset now contains 653 rows of non-null values**"
   ]
  },
  {
   "cell_type": "code",
   "execution_count": 16,
   "metadata": {
    "execution": {
     "iopub.execute_input": "2021-06-23T11:21:37.802432Z",
     "iopub.status.busy": "2021-06-23T11:21:37.801765Z",
     "iopub.status.idle": "2021-06-23T11:21:37.823370Z",
     "shell.execute_reply": "2021-06-23T11:21:37.823886Z",
     "shell.execute_reply.started": "2021-05-27T07:36:38.926987Z"
    },
    "papermill": {
     "duration": 0.085912,
     "end_time": "2021-06-23T11:21:37.824057",
     "exception": false,
     "start_time": "2021-06-23T11:21:37.738145",
     "status": "completed"
    },
    "tags": []
   },
   "outputs": [
    {
     "data": {
      "text/html": [
       "<div>\n",
       "<style scoped>\n",
       "    .dataframe tbody tr th:only-of-type {\n",
       "        vertical-align: middle;\n",
       "    }\n",
       "\n",
       "    .dataframe tbody tr th {\n",
       "        vertical-align: top;\n",
       "    }\n",
       "\n",
       "    .dataframe thead th {\n",
       "        text-align: right;\n",
       "    }\n",
       "</style>\n",
       "<table border=\"1\" class=\"dataframe\">\n",
       "  <thead>\n",
       "    <tr style=\"text-align: right;\">\n",
       "      <th></th>\n",
       "      <th>count</th>\n",
       "      <th>mean</th>\n",
       "      <th>std</th>\n",
       "      <th>min</th>\n",
       "      <th>25%</th>\n",
       "      <th>50%</th>\n",
       "      <th>75%</th>\n",
       "      <th>max</th>\n",
       "    </tr>\n",
       "  </thead>\n",
       "  <tbody>\n",
       "    <tr>\n",
       "      <th>MILES*</th>\n",
       "      <td>652.0</td>\n",
       "      <td>11.198313</td>\n",
       "      <td>23.00402</td>\n",
       "      <td>0.5</td>\n",
       "      <td>3.2</td>\n",
       "      <td>6.4</td>\n",
       "      <td>10.4</td>\n",
       "      <td>310.3</td>\n",
       "    </tr>\n",
       "  </tbody>\n",
       "</table>\n",
       "</div>"
      ],
      "text/plain": [
       "        count       mean       std  min  25%  50%   75%    max\n",
       "MILES*  652.0  11.198313  23.00402  0.5  3.2  6.4  10.4  310.3"
      ]
     },
     "execution_count": 16,
     "metadata": {},
     "output_type": "execute_result"
    }
   ],
   "source": [
    "#get the summary of data\n",
    "uber_df.describe().T"
   ]
  },
  {
   "cell_type": "markdown",
   "metadata": {
    "papermill": {
     "duration": 0.060919,
     "end_time": "2021-06-23T11:21:37.949487",
     "exception": false,
     "start_time": "2021-06-23T11:21:37.888568",
     "status": "completed"
    },
    "tags": []
   },
   "source": [
    "- This miles column is rightly skewed ( as we have mean > median)\n",
    "- The ride ranges from 0.5 miles 310.3 miles"
   ]
  },
  {
   "cell_type": "code",
   "execution_count": 17,
   "metadata": {
    "execution": {
     "iopub.execute_input": "2021-06-23T11:21:38.077385Z",
     "iopub.status.busy": "2021-06-23T11:21:38.076732Z",
     "iopub.status.idle": "2021-06-23T11:21:38.392973Z",
     "shell.execute_reply": "2021-06-23T11:21:38.393517Z",
     "shell.execute_reply.started": "2021-05-27T07:36:38.952211Z"
    },
    "papermill": {
     "duration": 0.382558,
     "end_time": "2021-06-23T11:21:38.393721",
     "exception": false,
     "start_time": "2021-06-23T11:21:38.011163",
     "status": "completed"
    },
    "tags": []
   },
   "outputs": [
    {
     "name": "stderr",
     "output_type": "stream",
     "text": [
      "/opt/conda/lib/python3.7/site-packages/seaborn/distributions.py:2557: FutureWarning: `distplot` is a deprecated function and will be removed in a future version. Please adapt your code to use either `displot` (a figure-level function with similar flexibility) or `histplot` (an axes-level function for histograms).\n",
      "  warnings.warn(msg, FutureWarning)\n"
     ]
    },
    {
     "data": {
      "image/png": "[encoded data removed]",
      "text/plain": [
       "<Figure size 720x432 with 1 Axes>"
      ]
     },
     "metadata": {
      "needs_background": "light"
     },
     "output_type": "display_data"
    }
   ],
   "source": [
    "# Displot of Miles \n",
    "plt.figure(figsize=(10,6))\n",
    "sns.distplot(uber_df[\"MILES*\"])\n",
    "plt.show()"
   ]
  },
  {
   "cell_type": "markdown",
   "metadata": {
    "papermill": {
     "duration": 0.062667,
     "end_time": "2021-06-23T11:21:38.519560",
     "exception": false,
     "start_time": "2021-06-23T11:21:38.456893",
     "status": "completed"
    },
    "tags": []
   },
   "source": [
    "<a id=\"2\"></a>\n",
    "<font color=\"darkslateblue\" size=+2.5><b>2. Destination(Starting and Stopping)</b></font>\n",
    "\n",
    "<a href=\"#top\" class=\"btn btn-primary btn-sm\" role=\"button\" aria-pressed=\"true\" style=\"color:white\" data-toggle=\"popover\">Go to TOC</a>\n",
    "\n"
   ]
  },
  {
   "cell_type": "code",
   "execution_count": 18,
   "metadata": {
    "execution": {
     "iopub.execute_input": "2021-06-23T11:21:38.647551Z",
     "iopub.status.busy": "2021-06-23T11:21:38.646932Z",
     "iopub.status.idle": "2021-06-23T11:21:38.654029Z",
     "shell.execute_reply": "2021-06-23T11:21:38.653348Z",
     "shell.execute_reply.started": "2021-05-27T07:36:39.269699Z"
    },
    "papermill": {
     "duration": 0.071948,
     "end_time": "2021-06-23T11:21:38.654177",
     "exception": false,
     "start_time": "2021-06-23T11:21:38.582229",
     "status": "completed"
    },
    "tags": []
   },
   "outputs": [
    {
     "name": "stdout",
     "output_type": "stream",
     "text": [
      "['Fort Pierce' 'West Palm Beach' 'Cary' 'Jamaica' 'New York' 'Elmhurst'\n",
      " 'Midtown' 'East Harlem' 'Flatiron District' 'Midtown East'\n",
      " 'Hudson Square' 'Lower Manhattan' \"Hell's Kitchen\" 'Downtown' 'Gulfton'\n",
      " 'Houston' 'Eagan Park' 'Morrisville' 'Durham' 'Farmington Woods'\n",
      " 'Lake Wellingborough' 'Fayetteville Street' 'Raleigh' 'Whitebridge'\n",
      " 'Hazelwood' 'Fairmont' 'Meredith Townes' 'Apex' 'Chapel Hill'\n",
      " 'Northwoods' 'Edgehill Farms' 'Eastgate' 'East Elmhurst'\n",
      " 'Long Island City' 'Katunayaka' 'Colombo' 'Nugegoda' 'Unknown Location'\n",
      " 'Islamabad' 'R?walpindi' 'Noorpur Shahan' 'Preston' 'Heritage Pines'\n",
      " 'Tanglewood' 'Waverly Place' 'Wayne Ridge' 'Westpark Place' 'East Austin'\n",
      " 'The Drag' 'South Congress' 'Georgian Acres' 'North Austin'\n",
      " 'West University' 'Austin' 'Katy' 'Sharpstown' 'Sugar Land' 'Galveston'\n",
      " 'Port Bolivar' 'Washington Avenue' 'Briar Meadow' 'Latta' 'Jacksonville'\n",
      " 'Lake Reams' 'Orlando' 'Kissimmee' 'Daytona Beach' 'Ridgeland' 'Florence'\n",
      " 'Meredith' 'Holly Springs' 'Chessington' 'Burtrose' 'Parkway' 'Mcvan'\n",
      " 'Capitol One' 'University District' 'Seattle' 'Redmond' 'Bellevue'\n",
      " 'San Francisco' 'Palo Alto' 'Sunnyvale' 'Newark' 'Menlo Park' 'Old City'\n",
      " 'Savon Height' 'Kilarney Woods' 'Townes at Everett Crossing'\n",
      " 'Huntington Woods' 'Weston' 'Seaport' 'Medical Centre' 'Rose Hill' 'Soho'\n",
      " 'Tribeca' 'Financial District' 'Oakland' 'Emeryville' 'Berkeley' 'Kenner'\n",
      " 'CBD' 'Lower Garden District' 'Storyville' 'New Orleans' 'Chalmette'\n",
      " 'Arabi' 'Pontchartrain Shores' 'Metairie' 'Summerwinds' 'Parkwood'\n",
      " 'Banner Elk' 'Boone' 'Stonewater' 'Lexington Park at Amberly'\n",
      " 'Winston Salem' 'Asheville' 'Topton' 'Renaissance' 'Santa Clara'\n",
      " 'Ingleside' 'West Berkeley' 'Mountain View' 'El Cerrito' 'Krendle Woods'\n",
      " 'Fuquay-Varina' 'Rawalpindi' 'Lahore' 'Kar?chi' 'Katunayake' 'Gampaha']\n",
      "131\n"
     ]
    }
   ],
   "source": [
    "# Get the starting destination, unique destination\n",
    "print(uber_df['START*'].unique()) #names of unique start points\n",
    "print(len(uber_df['START*'].unique())) #count of unique start points"
   ]
  },
  {
   "cell_type": "markdown",
   "metadata": {
    "papermill": {
     "duration": 0.064265,
     "end_time": "2021-06-23T11:21:38.781873",
     "exception": false,
     "start_time": "2021-06-23T11:21:38.717608",
     "status": "completed"
    },
    "tags": []
   },
   "source": [
    "**There are 131 unique starting points in the dataset**"
   ]
  },
  {
   "cell_type": "code",
   "execution_count": 19,
   "metadata": {
    "execution": {
     "iopub.execute_input": "2021-06-23T11:21:38.911683Z",
     "iopub.status.busy": "2021-06-23T11:21:38.911018Z",
     "iopub.status.idle": "2021-06-23T11:21:38.917285Z",
     "shell.execute_reply": "2021-06-23T11:21:38.917799Z",
     "shell.execute_reply.started": "2021-05-27T07:36:39.278219Z"
    },
    "papermill": {
     "duration": 0.073198,
     "end_time": "2021-06-23T11:21:38.917984",
     "exception": false,
     "start_time": "2021-06-23T11:21:38.844786",
     "status": "completed"
    },
    "tags": []
   },
   "outputs": [
    {
     "name": "stdout",
     "output_type": "stream",
     "text": [
      "['Fort Pierce' 'West Palm Beach' 'Palm Beach' 'Cary' 'Morrisville'\n",
      " 'New York' 'Queens' 'East Harlem' 'NoMad' 'Midtown' 'Midtown East'\n",
      " 'Hudson Square' 'Lower Manhattan' \"Hell's Kitchen\" 'Queens County'\n",
      " 'Gulfton' 'Downtown' 'Houston' 'Jamestown Court' 'Durham' 'Whitebridge'\n",
      " 'Raleigh' 'Umstead' 'Hazelwood' 'Westpark Place' 'Meredith Townes'\n",
      " 'Leesville Hollow' 'Apex' 'Chapel Hill' 'Williamsburg Manor'\n",
      " 'Macgregor Downs' 'Edgehill Farms' 'Walnut Terrace' 'Midtown West'\n",
      " 'Long Island City' 'Jamaica' 'Unknown Location' 'Colombo' 'Nugegoda'\n",
      " 'Katunayaka' 'Islamabad' 'R?walpindi' 'Noorpur Shahan' 'Heritage Pines'\n",
      " 'Tanglewood' 'Waverly Place' 'Wayne Ridge' 'Northwoods'\n",
      " 'Depot Historic District' 'West University' 'Congress Ave District'\n",
      " 'Convention Center District' 'North Austin' 'The Drag' 'Coxville'\n",
      " 'South Congress' 'Katy' 'Alief' 'Sharpstown' 'Sugar Land' 'Galveston'\n",
      " 'Port Bolivar' 'Washington Avenue' 'Greater Greenspoint' 'Latta'\n",
      " 'Jacksonville' 'Kissimmee' 'Lake Reams' 'Orlando' 'Daytona Beach'\n",
      " 'Ridgeland' 'Florence' 'Cedar Hill' 'Holly Springs' 'Harden Place'\n",
      " 'Chessington' 'Burtrose' 'Parkway' 'Capitol One' 'University District'\n",
      " 'Redmond' 'Bellevue' 'Seattle' 'Mcvan' 'Palo Alto' 'Sunnyvale' 'Newark'\n",
      " 'Menlo Park' 'San Francisco' 'Preston' 'Parkway Museums' 'Hog Island'\n",
      " 'Savon Height' 'Kildaire Farms' 'Weston' 'Gramercy-Flatiron' 'Tudor City'\n",
      " 'Soho' 'Tribeca' 'Financial District' 'Kips Bay' 'Emeryville' 'Berkeley'\n",
      " 'Oakland' 'Bay Farm Island' 'New Orleans' 'Lower Garden District'\n",
      " 'Lakeview' 'Faubourg Marigny' 'Chalmette' 'Arabi' 'Metairie'\n",
      " 'Pontchartrain Shores' 'Kenner' 'Summerwinds' 'Parkwood' 'Banner Elk'\n",
      " 'Boone' 'Stonewater' 'Lexington Park at Amberly' 'Winston Salem'\n",
      " 'Asheville' 'Topton' 'Hayesville' 'Agnew' 'Potrero Flats' 'South'\n",
      " 'Southside' 'Mountain View' 'El Cerrito' 'Wake Co.' 'Fuquay-Varina'\n",
      " 'Rawalpindi' 'Lahore' 'Kar?chi' 'Gampaha' 'Ilukwatta']\n",
      "137\n"
     ]
    }
   ],
   "source": [
    "# Get the starting destination, unique destination\n",
    "print(uber_df['STOP*'].unique()) #names of unique start points\n",
    "print(len(uber_df['STOP*'].unique())) #count of unique start points"
   ]
  },
  {
   "cell_type": "markdown",
   "metadata": {
    "papermill": {
     "duration": 0.063118,
     "end_time": "2021-06-23T11:21:39.045525",
     "exception": false,
     "start_time": "2021-06-23T11:21:38.982407",
     "status": "completed"
    },
    "tags": []
   },
   "source": [
    "**There are 137 unique destinations in the datset**"
   ]
  },
  {
   "cell_type": "code",
   "execution_count": 20,
   "metadata": {
    "execution": {
     "iopub.execute_input": "2021-06-23T11:21:39.177018Z",
     "iopub.status.busy": "2021-06-23T11:21:39.176375Z",
     "iopub.status.idle": "2021-06-23T11:21:39.184187Z",
     "shell.execute_reply": "2021-06-23T11:21:39.183498Z",
     "shell.execute_reply.started": "2021-05-27T07:36:39.289463Z"
    },
    "papermill": {
     "duration": 0.074285,
     "end_time": "2021-06-23T11:21:39.184351",
     "exception": false,
     "start_time": "2021-06-23T11:21:39.110066",
     "status": "completed"
    },
    "tags": []
   },
   "outputs": [
    {
     "data": {
      "text/plain": [
       "Cary                161\n",
       "Unknown Location     55\n",
       "Morrisville          54\n",
       "Whitebridge          36\n",
       "Durham               29\n",
       "Kar?chi              26\n",
       "Raleigh              21\n",
       "Lahore               19\n",
       "Islamabad            15\n",
       "Midtown              11\n",
       "Name: START*, dtype: int64"
      ]
     },
     "execution_count": 20,
     "metadata": {},
     "output_type": "execute_result"
    }
   ],
   "source": [
    "#Identify popular start destinations - top 10\n",
    "uber_df['START*'].value_counts().head(10)"
   ]
  },
  {
   "cell_type": "code",
   "execution_count": 21,
   "metadata": {
    "execution": {
     "iopub.execute_input": "2021-06-23T11:21:39.323705Z",
     "iopub.status.busy": "2021-06-23T11:21:39.322052Z",
     "iopub.status.idle": "2021-06-23T11:21:39.543007Z",
     "shell.execute_reply": "2021-06-23T11:21:39.542443Z",
     "shell.execute_reply.started": "2021-05-27T07:36:39.304146Z"
    },
    "papermill": {
     "duration": 0.293999,
     "end_time": "2021-06-23T11:21:39.543168",
     "exception": false,
     "start_time": "2021-06-23T11:21:39.249169",
     "status": "completed"
    },
    "tags": []
   },
   "outputs": [
    {
     "data": {
      "image/png": "[encoded data removed]",
      "text/plain": [
       "<Figure size 1080x720 with 1 Axes>"
      ]
     },
     "metadata": {
      "needs_background": "light"
     },
     "output_type": "display_data"
    }
   ],
   "source": [
    "plt.figure(figsize=(15,10))\n",
    "sns.countplot(y=\"START*\",order= pd.value_counts(uber_df['START*']).iloc[:10].index, data=uber_df)\n",
    "plt.show()"
   ]
  },
  {
   "cell_type": "markdown",
   "metadata": {
    "papermill": {
     "duration": 0.066553,
     "end_time": "2021-06-23T11:21:39.676707",
     "exception": false,
     "start_time": "2021-06-23T11:21:39.610154",
     "status": "completed"
    },
    "tags": []
   },
   "source": [
    "**We can say that Cary is most poplular starting point for this driver.**"
   ]
  },
  {
   "cell_type": "code",
   "execution_count": 22,
   "metadata": {
    "execution": {
     "iopub.execute_input": "2021-06-23T11:21:39.814354Z",
     "iopub.status.busy": "2021-06-23T11:21:39.813669Z",
     "iopub.status.idle": "2021-06-23T11:21:39.817357Z",
     "shell.execute_reply": "2021-06-23T11:21:39.816853Z",
     "shell.execute_reply.started": "2021-05-27T07:36:39.520732Z"
    },
    "papermill": {
     "duration": 0.075498,
     "end_time": "2021-06-23T11:21:39.817494",
     "exception": false,
     "start_time": "2021-06-23T11:21:39.741996",
     "status": "completed"
    },
    "tags": []
   },
   "outputs": [
    {
     "data": {
      "text/plain": [
       "Cary                154\n",
       "Morrisville          60\n",
       "Unknown Location     56\n",
       "Whitebridge          37\n",
       "Durham               30\n",
       "Kar?chi              26\n",
       "Raleigh              21\n",
       "Lahore               19\n",
       "Islamabad            14\n",
       "Apex                 11\n",
       "Name: STOP*, dtype: int64"
      ]
     },
     "execution_count": 22,
     "metadata": {},
     "output_type": "execute_result"
    }
   ],
   "source": [
    "#Identify popular stop destinations - top 10\n",
    "uber_df['STOP*'].value_counts().head(10)"
   ]
  },
  {
   "cell_type": "code",
   "execution_count": 23,
   "metadata": {
    "execution": {
     "iopub.execute_input": "2021-06-23T11:21:39.960586Z",
     "iopub.status.busy": "2021-06-23T11:21:39.959582Z",
     "iopub.status.idle": "2021-06-23T11:21:40.165488Z",
     "shell.execute_reply": "2021-06-23T11:21:40.164965Z",
     "shell.execute_reply.started": "2021-05-27T07:36:39.532285Z"
    },
    "papermill": {
     "duration": 0.283323,
     "end_time": "2021-06-23T11:21:40.165650",
     "exception": false,
     "start_time": "2021-06-23T11:21:39.882327",
     "status": "completed"
    },
    "tags": []
   },
   "outputs": [
    {
     "data": {
      "image/png": "[encoded data removed]",
      "text/plain": [
       "<Figure size 1080x720 with 1 Axes>"
      ]
     },
     "metadata": {
      "needs_background": "light"
     },
     "output_type": "display_data"
    }
   ],
   "source": [
    "plt.figure(figsize=(15,10))\n",
    "sns.countplot(y=\"STOP*\",order= pd.value_counts(uber_df['STOP*']).iloc[:10].index, data=uber_df)\n",
    "plt.show()"
   ]
  },
  {
   "cell_type": "markdown",
   "metadata": {
    "papermill": {
     "duration": 0.065472,
     "end_time": "2021-06-23T11:21:40.296678",
     "exception": false,
     "start_time": "2021-06-23T11:21:40.231206",
     "status": "completed"
    },
    "tags": []
   },
   "source": [
    "**Cary also features in the most popular stop destinations**"
   ]
  },
  {
   "cell_type": "code",
   "execution_count": 24,
   "metadata": {
    "execution": {
     "iopub.execute_input": "2021-06-23T11:21:40.434997Z",
     "iopub.status.busy": "2021-06-23T11:21:40.434244Z",
     "iopub.status.idle": "2021-06-23T11:21:40.445694Z",
     "shell.execute_reply": "2021-06-23T11:21:40.445169Z",
     "shell.execute_reply.started": "2021-05-27T07:36:39.740935Z"
    },
    "papermill": {
     "duration": 0.083816,
     "end_time": "2021-06-23T11:21:40.445833",
     "exception": false,
     "start_time": "2021-06-23T11:21:40.362017",
     "status": "completed"
    },
    "tags": []
   },
   "outputs": [
    {
     "data": {
      "text/plain": [
       "START*        STOP*       \n",
       "Cary          Durham          312.3\n",
       "Latta         Jacksonville    310.3\n",
       "Cary          Morrisville     293.7\n",
       "Durham        Cary            288.5\n",
       "Raleigh       Cary            269.5\n",
       "Morrisville   Cary            250.6\n",
       "Cary          Cary            233.9\n",
       "              Raleigh         230.4\n",
       "Jacksonville  Kissimmee       201.0\n",
       "Boone         Cary            180.2\n",
       "Name: MILES*, dtype: float64"
      ]
     },
     "execution_count": 24,
     "metadata": {},
     "output_type": "execute_result"
    }
   ],
   "source": [
    "#Find out most farthest start and stop pair -top10\n",
    "#Dropping Unknown Location Value\n",
    "uber_df2 = uber_df[uber_df['START*']!= 'Unknown Location']\n",
    "uber_df2 = uber_df2[uber_df2['STOP*']!= 'Unknown Location']\n",
    "\n",
    "uber_df2.groupby(['START*','STOP*'])['MILES*'].sum().sort_values(ascending=False).head(10)"
   ]
  },
  {
   "cell_type": "markdown",
   "metadata": {
    "papermill": {
     "duration": 0.065405,
     "end_time": "2021-06-23T11:21:40.577198",
     "exception": false,
     "start_time": "2021-06-23T11:21:40.511793",
     "status": "completed"
    },
    "tags": []
   },
   "source": [
    "**Cary and Durham are the farthest from each other**"
   ]
  },
  {
   "cell_type": "code",
   "execution_count": 25,
   "metadata": {
    "execution": {
     "iopub.execute_input": "2021-06-23T11:21:40.714250Z",
     "iopub.status.busy": "2021-06-23T11:21:40.713630Z",
     "iopub.status.idle": "2021-06-23T11:21:40.720579Z",
     "shell.execute_reply": "2021-06-23T11:21:40.721092Z",
     "shell.execute_reply.started": "2021-05-27T07:36:39.758386Z"
    },
    "papermill": {
     "duration": 0.078613,
     "end_time": "2021-06-23T11:21:40.721252",
     "exception": false,
     "start_time": "2021-06-23T11:21:40.642639",
     "status": "completed"
    },
    "tags": []
   },
   "outputs": [
    {
     "data": {
      "text/plain": [
       "START*       STOP*      \n",
       "Cary         Morrisville    52\n",
       "Morrisville  Cary           51\n",
       "Cary         Cary           44\n",
       "             Durham         30\n",
       "Durham       Cary           28\n",
       "Kar?chi      Kar?chi        20\n",
       "Cary         Raleigh        17\n",
       "Lahore       Lahore         16\n",
       "Raleigh      Cary           15\n",
       "Cary         Apex           11\n",
       "dtype: int64"
      ]
     },
     "execution_count": 25,
     "metadata": {},
     "output_type": "execute_result"
    }
   ],
   "source": [
    "#Find out most popular start and stop pair - top10\n",
    "uber_df2.groupby(['START*','STOP*']).size().sort_values(ascending=False).head(10)"
   ]
  },
  {
   "cell_type": "markdown",
   "metadata": {
    "papermill": {
     "duration": 0.065396,
     "end_time": "2021-06-23T11:21:40.852777",
     "exception": false,
     "start_time": "2021-06-23T11:21:40.787381",
     "status": "completed"
    },
    "tags": []
   },
   "source": [
    "**Cary and Durham are the farthest from each other**"
   ]
  },
  {
   "cell_type": "code",
   "execution_count": 26,
   "metadata": {
    "execution": {
     "iopub.execute_input": "2021-06-23T11:21:40.987170Z",
     "iopub.status.busy": "2021-06-23T11:21:40.986579Z",
     "iopub.status.idle": "2021-06-23T11:21:41.228171Z",
     "shell.execute_reply": "2021-06-23T11:21:41.227632Z",
     "shell.execute_reply.started": "2021-05-27T08:09:53.289034Z"
    },
    "papermill": {
     "duration": 0.30989,
     "end_time": "2021-06-23T11:21:41.228326",
     "exception": false,
     "start_time": "2021-06-23T11:21:40.918436",
     "status": "completed"
    },
    "tags": []
   },
   "outputs": [
    {
     "name": "stderr",
     "output_type": "stream",
     "text": [
      "/opt/conda/lib/python3.7/site-packages/seaborn/_decorators.py:43: FutureWarning: Pass the following variable as a keyword arg: x. From version 0.12, the only valid positional argument will be `data`, and passing other arguments without an explicit keyword will result in an error or misinterpretation.\n",
      "  FutureWarning\n"
     ]
    },
    {
     "data": {
      "image/png": "[encoded data removed]",
      "text/plain": [
       "<Figure size 576x360 with 1 Axes>"
      ]
     },
     "metadata": {
      "needs_background": "light"
     },
     "output_type": "display_data"
    }
   ],
   "source": [
    "# For this purpose, we need to make a function\n",
    "plt.figure(figsize=(8,5))\n",
    "def round(x):\n",
    "    if x['START*'] == x['STOP*']:\n",
    "        return 'YES'\n",
    "    else:\n",
    "        return 'NO'\n",
    "    \n",
    "uber_df['ROUND_TRIP*'] = uber_df.apply(round, axis=1)\n",
    "\n",
    "sns.countplot(uber_df['ROUND_TRIP*'], order=uber_df['ROUND_TRIP*'].value_counts().index, palette='viridis')\n",
    "plt.show()"
   ]
  },
  {
   "cell_type": "markdown",
   "metadata": {
    "papermill": {
     "duration": 0.066846,
     "end_time": "2021-06-23T11:21:41.362012",
     "exception": false,
     "start_time": "2021-06-23T11:21:41.295166",
     "status": "completed"
    },
    "tags": []
   },
   "source": [
    "**No of round trips is less**"
   ]
  },
  {
   "cell_type": "markdown",
   "metadata": {
    "papermill": {
     "duration": 0.067689,
     "end_time": "2021-06-23T11:21:41.496543",
     "exception": false,
     "start_time": "2021-06-23T11:21:41.428854",
     "status": "completed"
    },
    "tags": []
   },
   "source": [
    "<a id=\"3\"></a>\n",
    "<font color=\"darkslateblue\" size=+2.5><b>3.Exploring date and time object</b></font>\n",
    "\n"
   ]
  },
  {
   "cell_type": "code",
   "execution_count": 27,
   "metadata": {
    "execution": {
     "iopub.execute_input": "2021-06-23T11:21:41.663795Z",
     "iopub.status.busy": "2021-06-23T11:21:41.661226Z",
     "iopub.status.idle": "2021-06-23T11:21:41.669470Z",
     "shell.execute_reply": "2021-06-23T11:21:41.668841Z",
     "shell.execute_reply.started": "2021-05-27T07:36:39.771928Z"
    },
    "papermill": {
     "duration": 0.106002,
     "end_time": "2021-06-23T11:21:41.669606",
     "exception": false,
     "start_time": "2021-06-23T11:21:41.563604",
     "status": "completed"
    },
    "tags": []
   },
   "outputs": [
    {
     "name": "stderr",
     "output_type": "stream",
     "text": [
      "/opt/conda/lib/python3.7/site-packages/ipykernel_launcher.py:3: FutureWarning: The pandas.datetime class is deprecated and will be removed from pandas in a future version. Import from datetime module instead.\n",
      "  This is separate from the ipykernel package so we can avoid doing imports until\n",
      "/opt/conda/lib/python3.7/site-packages/ipykernel_launcher.py:4: FutureWarning: The pandas.datetime class is deprecated and will be removed from pandas in a future version. Import from datetime module instead.\n",
      "  after removing the cwd from sys.path.\n"
     ]
    }
   ],
   "source": [
    "# Convert the START DATE and END_DATE in string format to datetime object\n",
    "\n",
    "uber_df.loc[:, 'START_DATE*'] = uber_df['START_DATE*'].apply(lambda x: pd.datetime.strptime(x, '%m/%d/%Y %H:%M'))\n",
    "uber_df.loc[:, 'END_DATE*'] = uber_df['END_DATE*'].apply(lambda x: pd.datetime.strptime(x, '%m/%d/%Y %H:%M'))"
   ]
  },
  {
   "cell_type": "code",
   "execution_count": 28,
   "metadata": {
    "execution": {
     "iopub.execute_input": "2021-06-23T11:21:41.817526Z",
     "iopub.status.busy": "2021-06-23T11:21:41.814453Z",
     "iopub.status.idle": "2021-06-23T11:21:41.820440Z",
     "shell.execute_reply": "2021-06-23T11:21:41.819925Z",
     "shell.execute_reply.started": "2021-05-27T07:36:39.81214Z"
    },
    "papermill": {
     "duration": 0.078833,
     "end_time": "2021-06-23T11:21:41.820579",
     "exception": false,
     "start_time": "2021-06-23T11:21:41.741746",
     "status": "completed"
    },
    "tags": []
   },
   "outputs": [],
   "source": [
    "#Calculate the duration for the rides\n",
    "uber_df['DIFF'] = uber_df['END_DATE*'] - uber_df['START_DATE*']"
   ]
  },
  {
   "cell_type": "code",
   "execution_count": 29,
   "metadata": {
    "execution": {
     "iopub.execute_input": "2021-06-23T11:21:41.974771Z",
     "iopub.status.busy": "2021-06-23T11:21:41.974066Z",
     "iopub.status.idle": "2021-06-23T11:21:41.977125Z",
     "shell.execute_reply": "2021-06-23T11:21:41.976572Z",
     "shell.execute_reply.started": "2021-05-27T07:36:39.822198Z"
    },
    "papermill": {
     "duration": 0.088694,
     "end_time": "2021-06-23T11:21:41.977257",
     "exception": false,
     "start_time": "2021-06-23T11:21:41.888563",
     "status": "completed"
    },
    "tags": []
   },
   "outputs": [],
   "source": [
    "#convert duration to numbers(minutes)\n",
    "uber_df.loc[:, 'DIFF'] = uber_df['DIFF'].apply(lambda x: pd.Timedelta.to_pytimedelta(x).days/(24*60) + pd.Timedelta.to_pytimedelta(x).seconds/60)"
   ]
  },
  {
   "cell_type": "code",
   "execution_count": 30,
   "metadata": {
    "execution": {
     "iopub.execute_input": "2021-06-23T11:21:42.117581Z",
     "iopub.status.busy": "2021-06-23T11:21:42.116945Z",
     "iopub.status.idle": "2021-06-23T11:21:42.123052Z",
     "shell.execute_reply": "2021-06-23T11:21:42.123509Z",
     "shell.execute_reply.started": "2021-05-27T07:36:39.843936Z"
    },
    "papermill": {
     "duration": 0.078615,
     "end_time": "2021-06-23T11:21:42.123688",
     "exception": false,
     "start_time": "2021-06-23T11:21:42.045073",
     "status": "completed"
    },
    "tags": []
   },
   "outputs": [
    {
     "data": {
      "text/plain": [
       "0     6.0\n",
       "2    13.0\n",
       "3    14.0\n",
       "4    67.0\n",
       "5     4.0\n",
       "Name: DIFF, dtype: float64"
      ]
     },
     "execution_count": 30,
     "metadata": {},
     "output_type": "execute_result"
    }
   ],
   "source": [
    "uber_df['DIFF'].head()"
   ]
  },
  {
   "cell_type": "code",
   "execution_count": 31,
   "metadata": {
    "execution": {
     "iopub.execute_input": "2021-06-23T11:21:42.266132Z",
     "iopub.status.busy": "2021-06-23T11:21:42.265491Z",
     "iopub.status.idle": "2021-06-23T11:21:42.271033Z",
     "shell.execute_reply": "2021-06-23T11:21:42.271479Z",
     "shell.execute_reply.started": "2021-05-27T07:36:39.855587Z"
    },
    "papermill": {
     "duration": 0.079447,
     "end_time": "2021-06-23T11:21:42.271655",
     "exception": false,
     "start_time": "2021-06-23T11:21:42.192208",
     "status": "completed"
    },
    "tags": []
   },
   "outputs": [
    {
     "data": {
      "text/plain": [
       "count    652.000000\n",
       "mean      23.395706\n",
       "std       25.789348\n",
       "min        2.000000\n",
       "25%       11.000000\n",
       "50%       17.500000\n",
       "75%       28.000000\n",
       "max      330.000000\n",
       "Name: DIFF, dtype: float64"
      ]
     },
     "execution_count": 31,
     "metadata": {},
     "output_type": "execute_result"
    }
   ],
   "source": [
    "uber_df['DIFF'].describe()"
   ]
  },
  {
   "cell_type": "markdown",
   "metadata": {
    "papermill": {
     "duration": 0.06829,
     "end_time": "2021-06-23T11:21:42.408289",
     "exception": false,
     "start_time": "2021-06-23T11:21:42.339999",
     "status": "completed"
    },
    "tags": []
   },
   "source": [
    "**Ride durations range from 2 minutes to 330 minutes with an average duration of 23 minutes**"
   ]
  },
  {
   "cell_type": "code",
   "execution_count": 32,
   "metadata": {
    "execution": {
     "iopub.execute_input": "2021-06-23T11:21:42.548499Z",
     "iopub.status.busy": "2021-06-23T11:21:42.547879Z",
     "iopub.status.idle": "2021-06-23T11:21:42.561222Z",
     "shell.execute_reply": "2021-06-23T11:21:42.561725Z",
     "shell.execute_reply.started": "2021-05-27T07:36:39.871115Z"
    },
    "papermill": {
     "duration": 0.084877,
     "end_time": "2021-06-23T11:21:42.561910",
     "exception": false,
     "start_time": "2021-06-23T11:21:42.477033",
     "status": "completed"
    },
    "tags": []
   },
   "outputs": [],
   "source": [
    "#Capture Hour, Day, Month and Year of Ride in a separate column\n",
    "uber_df['month'] = pd.to_datetime(uber_df['START_DATE*']).dt.month\n",
    "uber_df['Year'] = pd.to_datetime(uber_df['START_DATE*']).dt.year\n",
    "uber_df['Day'] = pd.to_datetime(uber_df['START_DATE*']).dt.day\n",
    "uber_df['Hour'] = pd.to_datetime(uber_df['START_DATE*']).dt.hour"
   ]
  },
  {
   "cell_type": "code",
   "execution_count": 33,
   "metadata": {
    "execution": {
     "iopub.execute_input": "2021-06-23T11:21:42.702941Z",
     "iopub.status.busy": "2021-06-23T11:21:42.702279Z",
     "iopub.status.idle": "2021-06-23T11:21:42.710622Z",
     "shell.execute_reply": "2021-06-23T11:21:42.711144Z",
     "shell.execute_reply.started": "2021-05-27T07:36:39.888838Z"
    },
    "papermill": {
     "duration": 0.080938,
     "end_time": "2021-06-23T11:21:42.711331",
     "exception": false,
     "start_time": "2021-06-23T11:21:42.630393",
     "status": "completed"
    },
    "tags": []
   },
   "outputs": [],
   "source": [
    "#Capture day of week and rename to weekday names\n",
    "uber_df['day_of_week'] = pd.to_datetime(uber_df['START_DATE*']).dt.dayofweek\n",
    "days = {0:'Mon',1:'Tue',2:'Wed',3:'Thur',4:'Fri',5:'Sat',6:'Sun'}\n",
    "\n",
    "uber_df['day_of_week'] = uber_df['day_of_week'].apply(lambda x: days[x])"
   ]
  },
  {
   "cell_type": "code",
   "execution_count": 34,
   "metadata": {
    "execution": {
     "iopub.execute_input": "2021-06-23T11:21:42.854089Z",
     "iopub.status.busy": "2021-06-23T11:21:42.853460Z",
     "iopub.status.idle": "2021-06-23T11:21:42.877578Z",
     "shell.execute_reply": "2021-06-23T11:21:42.877027Z",
     "shell.execute_reply.started": "2021-05-27T07:36:39.903505Z"
    },
    "papermill": {
     "duration": 0.096859,
     "end_time": "2021-06-23T11:21:42.877725",
     "exception": false,
     "start_time": "2021-06-23T11:21:42.780866",
     "status": "completed"
    },
    "tags": []
   },
   "outputs": [
    {
     "data": {
      "text/html": [
       "<div>\n",
       "<style scoped>\n",
       "    .dataframe tbody tr th:only-of-type {\n",
       "        vertical-align: middle;\n",
       "    }\n",
       "\n",
       "    .dataframe tbody tr th {\n",
       "        vertical-align: top;\n",
       "    }\n",
       "\n",
       "    .dataframe thead th {\n",
       "        text-align: right;\n",
       "    }\n",
       "</style>\n",
       "<table border=\"1\" class=\"dataframe\">\n",
       "  <thead>\n",
       "    <tr style=\"text-align: right;\">\n",
       "      <th></th>\n",
       "      <th>START_DATE*</th>\n",
       "      <th>END_DATE*</th>\n",
       "      <th>CATEGORY*</th>\n",
       "      <th>START*</th>\n",
       "      <th>STOP*</th>\n",
       "      <th>MILES*</th>\n",
       "      <th>PURPOSE*</th>\n",
       "      <th>ROUND_TRIP*</th>\n",
       "      <th>DIFF</th>\n",
       "      <th>month</th>\n",
       "      <th>Year</th>\n",
       "      <th>Day</th>\n",
       "      <th>Hour</th>\n",
       "      <th>day_of_week</th>\n",
       "    </tr>\n",
       "  </thead>\n",
       "  <tbody>\n",
       "    <tr>\n",
       "      <th>0</th>\n",
       "      <td>2016-01-01 21:11:00</td>\n",
       "      <td>2016-01-01 21:17:00</td>\n",
       "      <td>Business</td>\n",
       "      <td>Fort Pierce</td>\n",
       "      <td>Fort Pierce</td>\n",
       "      <td>5.1</td>\n",
       "      <td>Meal/Entertain</td>\n",
       "      <td>YES</td>\n",
       "      <td>6.0</td>\n",
       "      <td>Jan</td>\n",
       "      <td>2016</td>\n",
       "      <td>1</td>\n",
       "      <td>21</td>\n",
       "      <td>Fri</td>\n",
       "    </tr>\n",
       "    <tr>\n",
       "      <th>2</th>\n",
       "      <td>2016-01-02 20:25:00</td>\n",
       "      <td>2016-01-02 20:38:00</td>\n",
       "      <td>Business</td>\n",
       "      <td>Fort Pierce</td>\n",
       "      <td>Fort Pierce</td>\n",
       "      <td>4.8</td>\n",
       "      <td>Errand/Supplies</td>\n",
       "      <td>YES</td>\n",
       "      <td>13.0</td>\n",
       "      <td>Jan</td>\n",
       "      <td>2016</td>\n",
       "      <td>2</td>\n",
       "      <td>20</td>\n",
       "      <td>Sat</td>\n",
       "    </tr>\n",
       "    <tr>\n",
       "      <th>3</th>\n",
       "      <td>2016-01-05 17:31:00</td>\n",
       "      <td>2016-01-05 17:45:00</td>\n",
       "      <td>Business</td>\n",
       "      <td>Fort Pierce</td>\n",
       "      <td>Fort Pierce</td>\n",
       "      <td>4.7</td>\n",
       "      <td>Meeting</td>\n",
       "      <td>YES</td>\n",
       "      <td>14.0</td>\n",
       "      <td>Jan</td>\n",
       "      <td>2016</td>\n",
       "      <td>5</td>\n",
       "      <td>17</td>\n",
       "      <td>Tue</td>\n",
       "    </tr>\n",
       "    <tr>\n",
       "      <th>4</th>\n",
       "      <td>2016-01-06 14:42:00</td>\n",
       "      <td>2016-01-06 15:49:00</td>\n",
       "      <td>Business</td>\n",
       "      <td>Fort Pierce</td>\n",
       "      <td>West Palm Beach</td>\n",
       "      <td>63.7</td>\n",
       "      <td>Customer Visit</td>\n",
       "      <td>NO</td>\n",
       "      <td>67.0</td>\n",
       "      <td>Jan</td>\n",
       "      <td>2016</td>\n",
       "      <td>6</td>\n",
       "      <td>14</td>\n",
       "      <td>Wed</td>\n",
       "    </tr>\n",
       "    <tr>\n",
       "      <th>5</th>\n",
       "      <td>2016-01-06 17:15:00</td>\n",
       "      <td>2016-01-06 17:19:00</td>\n",
       "      <td>Business</td>\n",
       "      <td>West Palm Beach</td>\n",
       "      <td>West Palm Beach</td>\n",
       "      <td>4.3</td>\n",
       "      <td>Meal/Entertain</td>\n",
       "      <td>YES</td>\n",
       "      <td>4.0</td>\n",
       "      <td>Jan</td>\n",
       "      <td>2016</td>\n",
       "      <td>6</td>\n",
       "      <td>17</td>\n",
       "      <td>Wed</td>\n",
       "    </tr>\n",
       "  </tbody>\n",
       "</table>\n",
       "</div>"
      ],
      "text/plain": [
       "          START_DATE*           END_DATE* CATEGORY*           START*  \\\n",
       "0 2016-01-01 21:11:00 2016-01-01 21:17:00  Business      Fort Pierce   \n",
       "2 2016-01-02 20:25:00 2016-01-02 20:38:00  Business      Fort Pierce   \n",
       "3 2016-01-05 17:31:00 2016-01-05 17:45:00  Business      Fort Pierce   \n",
       "4 2016-01-06 14:42:00 2016-01-06 15:49:00  Business      Fort Pierce   \n",
       "5 2016-01-06 17:15:00 2016-01-06 17:19:00  Business  West Palm Beach   \n",
       "\n",
       "             STOP*  MILES*         PURPOSE* ROUND_TRIP*  DIFF month  Year  \\\n",
       "0      Fort Pierce     5.1   Meal/Entertain         YES   6.0   Jan  2016   \n",
       "2      Fort Pierce     4.8  Errand/Supplies         YES  13.0   Jan  2016   \n",
       "3      Fort Pierce     4.7          Meeting         YES  14.0   Jan  2016   \n",
       "4  West Palm Beach    63.7   Customer Visit          NO  67.0   Jan  2016   \n",
       "5  West Palm Beach     4.3   Meal/Entertain         YES   4.0   Jan  2016   \n",
       "\n",
       "   Day  Hour day_of_week  \n",
       "0    1    21         Fri  \n",
       "2    2    20         Sat  \n",
       "3    5    17         Tue  \n",
       "4    6    14         Wed  \n",
       "5    6    17         Wed  "
      ]
     },
     "execution_count": 34,
     "metadata": {},
     "output_type": "execute_result"
    }
   ],
   "source": [
    "#Rename the numbers in the Month column to calendar months\n",
    "import calendar\n",
    "uber_df['month'] = uber_df['month'].apply(lambda x: calendar.month_abbr[x])\n",
    "uber_df.head()"
   ]
  },
  {
   "cell_type": "code",
   "execution_count": 35,
   "metadata": {
    "execution": {
     "iopub.execute_input": "2021-06-23T11:21:43.025050Z",
     "iopub.status.busy": "2021-06-23T11:21:43.024310Z",
     "iopub.status.idle": "2021-06-23T11:21:43.027923Z",
     "shell.execute_reply": "2021-06-23T11:21:43.028438Z",
     "shell.execute_reply.started": "2021-05-27T07:36:39.932527Z"
    },
    "papermill": {
     "duration": 0.08095,
     "end_time": "2021-06-23T11:21:43.028607",
     "exception": false,
     "start_time": "2021-06-23T11:21:42.947657",
     "status": "completed"
    },
    "tags": []
   },
   "outputs": [
    {
     "name": "stdout",
     "output_type": "stream",
     "text": [
      "Dec    134\n",
      "Feb     82\n",
      "Jun     72\n",
      "Mar     71\n",
      "Nov     60\n",
      "Jan     59\n",
      "Apr     50\n",
      "Jul     46\n",
      "May     46\n",
      "Oct     20\n",
      "Aug     12\n",
      "Name: month, dtype: int64\n",
      "Fri     125\n",
      "Tue      93\n",
      "Thur     92\n",
      "Sun      87\n",
      "Mon      87\n",
      "Wed      85\n",
      "Sat      83\n",
      "Name: day_of_week, dtype: int64\n"
     ]
    }
   ],
   "source": [
    "#Extract the total number of trips per month, weekday\n",
    "print(uber_df['month'].value_counts())\n",
    "print(uber_df['day_of_week'].value_counts())"
   ]
  },
  {
   "cell_type": "code",
   "execution_count": 36,
   "metadata": {
    "execution": {
     "iopub.execute_input": "2021-06-23T11:21:43.178771Z",
     "iopub.status.busy": "2021-06-23T11:21:43.173688Z",
     "iopub.status.idle": "2021-06-23T11:21:43.363791Z",
     "shell.execute_reply": "2021-06-23T11:21:43.363241Z",
     "shell.execute_reply.started": "2021-05-27T08:16:54.044349Z"
    },
    "papermill": {
     "duration": 0.264526,
     "end_time": "2021-06-23T11:21:43.363938",
     "exception": false,
     "start_time": "2021-06-23T11:21:43.099412",
     "status": "completed"
    },
    "tags": []
   },
   "outputs": [
    {
     "name": "stderr",
     "output_type": "stream",
     "text": [
      "/opt/conda/lib/python3.7/site-packages/seaborn/_decorators.py:43: FutureWarning: Pass the following variable as a keyword arg: x. From version 0.12, the only valid positional argument will be `data`, and passing other arguments without an explicit keyword will result in an error or misinterpretation.\n",
      "  FutureWarning\n"
     ]
    },
    {
     "data": {
      "image/png": "[encoded data removed]",
      "text/plain": [
       "<Figure size 864x504 with 1 Axes>"
      ]
     },
     "metadata": {
      "needs_background": "light"
     },
     "output_type": "display_data"
    }
   ],
   "source": [
    "plt.figure(figsize=(12,7))\n",
    "sns.countplot(uber_df['month'],order=pd.value_counts(uber_df['month']).index)\n",
    "plt.show()"
   ]
  },
  {
   "cell_type": "code",
   "execution_count": 37,
   "metadata": {
    "execution": {
     "iopub.execute_input": "2021-06-23T11:21:43.539706Z",
     "iopub.status.busy": "2021-06-23T11:21:43.534791Z",
     "iopub.status.idle": "2021-06-23T11:21:43.669826Z",
     "shell.execute_reply": "2021-06-23T11:21:43.669186Z",
     "shell.execute_reply.started": "2021-05-27T08:18:29.069748Z"
    },
    "papermill": {
     "duration": 0.234859,
     "end_time": "2021-06-23T11:21:43.669962",
     "exception": false,
     "start_time": "2021-06-23T11:21:43.435103",
     "status": "completed"
    },
    "tags": []
   },
   "outputs": [
    {
     "name": "stderr",
     "output_type": "stream",
     "text": [
      "/opt/conda/lib/python3.7/site-packages/seaborn/_decorators.py:43: FutureWarning: Pass the following variable as a keyword arg: x. From version 0.12, the only valid positional argument will be `data`, and passing other arguments without an explicit keyword will result in an error or misinterpretation.\n",
      "  FutureWarning\n"
     ]
    },
    {
     "data": {
      "image/png": "[encoded data removed]",
      "text/plain": [
       "<Figure size 864x504 with 1 Axes>"
      ]
     },
     "metadata": {
      "needs_background": "light"
     },
     "output_type": "display_data"
    }
   ],
   "source": [
    "plt.figure(figsize=(12,7))\n",
    "sns.countplot(uber_df['day_of_week'],order=pd.value_counts(uber_df['day_of_week']).index)\n",
    "plt.show()"
   ]
  },
  {
   "cell_type": "code",
   "execution_count": 38,
   "metadata": {
    "execution": {
     "iopub.execute_input": "2021-06-23T11:21:43.823517Z",
     "iopub.status.busy": "2021-06-23T11:21:43.821943Z",
     "iopub.status.idle": "2021-06-23T11:21:43.830851Z",
     "shell.execute_reply": "2021-06-23T11:21:43.831370Z",
     "shell.execute_reply.started": "2021-05-27T07:36:39.946964Z"
    },
    "papermill": {
     "duration": 0.089185,
     "end_time": "2021-06-23T11:21:43.831551",
     "exception": false,
     "start_time": "2021-06-23T11:21:43.742366",
     "status": "completed"
    },
    "tags": []
   },
   "outputs": [
    {
     "data": {
      "text/plain": [
       "month\n",
       "Oct    24.840000\n",
       "Apr    21.898000\n",
       "Mar    20.505634\n",
       "Jul    10.615217\n",
       "Nov    10.590000\n",
       "Feb     8.868293\n",
       "Jan     8.486441\n",
       "May     7.793478\n",
       "Jun     7.376389\n",
       "Aug     7.341667\n",
       "Dec     6.898507\n",
       "Name: MILES*, dtype: float64"
      ]
     },
     "execution_count": 38,
     "metadata": {},
     "output_type": "execute_result"
    }
   ],
   "source": [
    "#Getting the average distance covered per month\n",
    "uber_df.groupby('month').mean()['MILES*'].sort_values(ascending = False)"
   ]
  },
  {
   "cell_type": "code",
   "execution_count": 39,
   "metadata": {
    "execution": {
     "iopub.execute_input": "2021-06-23T11:21:43.978030Z",
     "iopub.status.busy": "2021-06-23T11:21:43.977335Z",
     "iopub.status.idle": "2021-06-23T11:21:44.201234Z",
     "shell.execute_reply": "2021-06-23T11:21:44.201788Z",
     "shell.execute_reply.started": "2021-05-27T08:26:26.278247Z"
    },
    "papermill": {
     "duration": 0.298517,
     "end_time": "2021-06-23T11:21:44.201963",
     "exception": false,
     "start_time": "2021-06-23T11:21:43.903446",
     "status": "completed"
    },
    "tags": []
   },
   "outputs": [
    {
     "data": {
      "image/png": "[encoded data removed]",
      "text/plain": [
       "<Figure size 864x360 with 1 Axes>"
      ]
     },
     "metadata": {
      "needs_background": "light"
     },
     "output_type": "display_data"
    }
   ],
   "source": [
    "plt.figure(figsize=(12,5))\n",
    "uber_df.groupby('month').mean()['MILES*'].sort_values(ascending = False).plot.bar(color=['maroon','darksalmon','green','blue','yellow','teal'])\n",
    "plt.axhline(uber_df['MILES*'].mean(), linestyle='--', color='green', label='Mean distance')\n",
    "plt.legend()\n",
    "plt.show()"
   ]
  },
  {
   "cell_type": "markdown",
   "metadata": {
    "papermill": {
     "duration": 0.07252,
     "end_time": "2021-06-23T11:21:44.346704",
     "exception": false,
     "start_time": "2021-06-23T11:21:44.274184",
     "status": "completed"
    },
    "tags": []
   },
   "source": [
    "**Longest average distance is covered in Oct and least in Dec**"
   ]
  },
  {
   "cell_type": "code",
   "execution_count": 40,
   "metadata": {
    "execution": {
     "iopub.execute_input": "2021-06-23T11:21:44.495440Z",
     "iopub.status.busy": "2021-06-23T11:21:44.494791Z",
     "iopub.status.idle": "2021-06-23T11:21:44.501448Z",
     "shell.execute_reply": "2021-06-23T11:21:44.501894Z",
     "shell.execute_reply.started": "2021-05-27T07:36:39.964805Z"
    },
    "papermill": {
     "duration": 0.082326,
     "end_time": "2021-06-23T11:21:44.502063",
     "exception": false,
     "start_time": "2021-06-23T11:21:44.419737",
     "status": "completed"
    },
    "tags": []
   },
   "outputs": [
    {
     "data": {
      "text/plain": [
       "13    55\n",
       "14    52\n",
       "15    51\n",
       "18    51\n",
       "17    51\n",
       "20    45\n",
       "16    45\n",
       "12    43\n",
       "11    39\n",
       "19    35\n",
       "21    34\n",
       "10    33\n",
       "9     26\n",
       "22    21\n",
       "23    20\n",
       "8     17\n",
       "0     13\n",
       "7      8\n",
       "1      4\n",
       "5      3\n",
       "3      3\n",
       "6      2\n",
       "2      1\n",
       "Name: Hour, dtype: int64"
      ]
     },
     "execution_count": 40,
     "metadata": {},
     "output_type": "execute_result"
    }
   ],
   "source": [
    "#Number of trips based of hour of day\n",
    "uber_df['Hour'].value_counts()"
   ]
  },
  {
   "cell_type": "code",
   "execution_count": 41,
   "metadata": {
    "execution": {
     "iopub.execute_input": "2021-06-23T11:21:44.655352Z",
     "iopub.status.busy": "2021-06-23T11:21:44.654680Z",
     "iopub.status.idle": "2021-06-23T11:21:44.940177Z",
     "shell.execute_reply": "2021-06-23T11:21:44.940672Z",
     "shell.execute_reply.started": "2021-05-27T08:29:29.716607Z"
    },
    "papermill": {
     "duration": 0.365852,
     "end_time": "2021-06-23T11:21:44.940849",
     "exception": false,
     "start_time": "2021-06-23T11:21:44.574997",
     "status": "completed"
    },
    "tags": []
   },
   "outputs": [
    {
     "name": "stderr",
     "output_type": "stream",
     "text": [
      "/opt/conda/lib/python3.7/site-packages/seaborn/_decorators.py:43: FutureWarning: Pass the following variable as a keyword arg: x. From version 0.12, the only valid positional argument will be `data`, and passing other arguments without an explicit keyword will result in an error or misinterpretation.\n",
      "  FutureWarning\n"
     ]
    },
    {
     "data": {
      "image/png": "[encoded data removed]",
      "text/plain": [
       "<Figure size 864x504 with 1 Axes>"
      ]
     },
     "metadata": {
      "needs_background": "light"
     },
     "output_type": "display_data"
    }
   ],
   "source": [
    "plt.figure(figsize=(12,7))\n",
    "sns.countplot(uber_df['Hour'],order=pd.value_counts(uber_df['Hour']).index)\n",
    "plt.show()"
   ]
  },
  {
   "cell_type": "markdown",
   "metadata": {
    "papermill": {
     "duration": 0.073264,
     "end_time": "2021-06-23T11:21:45.088079",
     "exception": false,
     "start_time": "2021-06-23T11:21:45.014815",
     "status": "completed"
    },
    "tags": []
   },
   "source": [
    "**Afternoons and evenings seem to have the maximum number of trips**"
   ]
  },
  {
   "cell_type": "code",
   "execution_count": 42,
   "metadata": {
    "execution": {
     "iopub.execute_input": "2021-06-23T11:21:45.241436Z",
     "iopub.status.busy": "2021-06-23T11:21:45.240792Z",
     "iopub.status.idle": "2021-06-23T11:21:46.059184Z",
     "shell.execute_reply": "2021-06-23T11:21:46.058677Z",
     "shell.execute_reply.started": "2021-05-27T08:44:08.037594Z"
    },
    "papermill": {
     "duration": 0.895232,
     "end_time": "2021-06-23T11:21:46.059352",
     "exception": false,
     "start_time": "2021-06-23T11:21:45.164120",
     "status": "completed"
    },
    "tags": []
   },
   "outputs": [
    {
     "data": {
      "image/png": "[encoded data removed]",
      "text/plain": [
       "<Figure size 1440x720 with 1 Axes>"
      ]
     },
     "metadata": {
      "needs_background": "light"
     },
     "output_type": "display_data"
    }
   ],
   "source": [
    "#which hours of the day highest trips are made\n",
    "\n",
    "plt.figure(figsize=(20,10))\n",
    "sns.countplot(data=uber_df, x=uber_df['Hour'], hue=uber_df['day_of_week'],\n",
    "              palette=\"Set1\", )\n",
    "plt.show()"
   ]
  },
  {
   "cell_type": "code",
   "execution_count": 43,
   "metadata": {
    "execution": {
     "iopub.execute_input": "2021-06-23T11:21:46.213917Z",
     "iopub.status.busy": "2021-06-23T11:21:46.212984Z",
     "iopub.status.idle": "2021-06-23T11:21:46.340133Z",
     "shell.execute_reply": "2021-06-23T11:21:46.339624Z",
     "shell.execute_reply.started": "2021-05-27T08:48:19.769076Z"
    },
    "papermill": {
     "duration": 0.204626,
     "end_time": "2021-06-23T11:21:46.340289",
     "exception": false,
     "start_time": "2021-06-23T11:21:46.135663",
     "status": "completed"
    },
    "tags": []
   },
   "outputs": [
    {
     "name": "stderr",
     "output_type": "stream",
     "text": [
      "/opt/conda/lib/python3.7/site-packages/seaborn/_decorators.py:43: FutureWarning: Pass the following variable as a keyword arg: x. From version 0.12, the only valid positional argument will be `data`, and passing other arguments without an explicit keyword will result in an error or misinterpretation.\n",
      "  FutureWarning\n"
     ]
    },
    {
     "data": {
      "image/png": "[encoded data removed]",
      "text/plain": [
       "<Figure size 432x288 with 1 Axes>"
      ]
     },
     "metadata": {
      "needs_background": "light"
     },
     "output_type": "display_data"
    }
   ],
   "source": [
    "# Day Time or Night time \n",
    "a = pd.to_datetime(['18:00:00']).time\n",
    "uber_df['DAY/NIGHT*'] = uber_df.apply(lambda x : 'Night Ride' if x['START_DATE*'].time() > a else 'Day Ride', axis=1)\n",
    "sns.countplot(uber_df['DAY/NIGHT*'], palette='Set2' , order = uber_df['DAY/NIGHT*'].value_counts().index)\n",
    "plt.show()"
   ]
  },
  {
   "cell_type": "markdown",
   "metadata": {
    "papermill": {
     "duration": 0.078653,
     "end_time": "2021-06-23T11:21:46.494395",
     "exception": false,
     "start_time": "2021-06-23T11:21:46.415742",
     "status": "completed"
    },
    "tags": []
   },
   "source": [
    "**Maximum trips were made during Day Time**\n"
   ]
  },
  {
   "cell_type": "code",
   "execution_count": 44,
   "metadata": {
    "execution": {
     "iopub.execute_input": "2021-06-23T11:21:46.661263Z",
     "iopub.status.busy": "2021-06-23T11:21:46.658523Z",
     "iopub.status.idle": "2021-06-23T11:21:46.851608Z",
     "shell.execute_reply": "2021-06-23T11:21:46.850916Z",
     "shell.execute_reply.started": "2021-05-27T08:52:16.516779Z"
    },
    "papermill": {
     "duration": 0.280529,
     "end_time": "2021-06-23T11:21:46.851757",
     "exception": false,
     "start_time": "2021-06-23T11:21:46.571228",
     "status": "completed"
    },
    "tags": []
   },
   "outputs": [
    {
     "name": "stderr",
     "output_type": "stream",
     "text": [
      "/opt/conda/lib/python3.7/site-packages/seaborn/_decorators.py:43: FutureWarning: Pass the following variable as a keyword arg: x. From version 0.12, the only valid positional argument will be `data`, and passing other arguments without an explicit keyword will result in an error or misinterpretation.\n",
      "  FutureWarning\n"
     ]
    },
    {
     "data": {
      "image/png": "[encoded data removed]",
      "text/plain": [
       "<Figure size 648x504 with 1 Axes>"
      ]
     },
     "metadata": {
      "needs_background": "light"
     },
     "output_type": "display_data"
    }
   ],
   "source": [
    "plt.figure(figsize=(9,7))\n",
    "sns.countplot(uber_df['day_of_week'], hue=uber_df['DAY/NIGHT*'], palette='Set1' ,\n",
    "              order=uber_df['day_of_week'].value_counts().index)\n",
    "plt.show()"
   ]
  },
  {
   "cell_type": "markdown",
   "metadata": {
    "papermill": {
     "duration": 0.076335,
     "end_time": "2021-06-23T11:21:47.007640",
     "exception": false,
     "start_time": "2021-06-23T11:21:46.931305",
     "status": "completed"
    },
    "tags": []
   },
   "source": [
    "**Highest number of Day rides were on Friday while Night rides were on Sunday/Thursday**\n"
   ]
  },
  {
   "cell_type": "code",
   "execution_count": 45,
   "metadata": {
    "execution": {
     "iopub.execute_input": "2021-06-23T11:21:47.197018Z",
     "iopub.status.busy": "2021-06-23T11:21:47.191882Z",
     "iopub.status.idle": "2021-06-23T11:21:47.534990Z",
     "shell.execute_reply": "2021-06-23T11:21:47.534364Z",
     "shell.execute_reply.started": "2021-05-27T08:56:13.452482Z"
    },
    "papermill": {
     "duration": 0.450611,
     "end_time": "2021-06-23T11:21:47.535128",
     "exception": false,
     "start_time": "2021-06-23T11:21:47.084517",
     "status": "completed"
    },
    "tags": []
   },
   "outputs": [
    {
     "name": "stderr",
     "output_type": "stream",
     "text": [
      "/opt/conda/lib/python3.7/site-packages/seaborn/_decorators.py:43: FutureWarning: Pass the following variable as a keyword arg: x. From version 0.12, the only valid positional argument will be `data`, and passing other arguments without an explicit keyword will result in an error or misinterpretation.\n",
      "  FutureWarning\n"
     ]
    },
    {
     "data": {
      "image/png": "[encoded data removed]",
      "text/plain": [
       "<Figure size 720x432 with 1 Axes>"
      ]
     },
     "metadata": {
      "needs_background": "light"
     },
     "output_type": "display_data"
    }
   ],
   "source": [
    "m = {}\n",
    "\n",
    "for i in uber_df['MILES*']:\n",
    "    for i in uber_df['MILES*']:\n",
    "        if i < 10:\n",
    "            m.setdefault(i,'0-10 miles')\n",
    "        elif i >= 10 and i < 20:\n",
    "            m.setdefault(i,'10-20 miles')\n",
    "        elif i >= 20 and i < 30:\n",
    "            m.setdefault(i,'20-30 miles')\n",
    "        elif i >= 30 and i < 40:\n",
    "            m.setdefault(i,'30-40 miles')\n",
    "        elif i >= 40 and i < 50:\n",
    "            m.setdefault(i,'40-50 miles')\n",
    "        else:\n",
    "            m.setdefault(i,'Above 50 miles')\n",
    "            \n",
    "uber_df['MILES_BUCKET*'] = uber_df['MILES*'].map(m)\n",
    "\n",
    "plt.figure(figsize=(10,6))\n",
    "sns.countplot(uber_df['MILES_BUCKET*'], palette='Set1' ,\n",
    "              order = uber_df['MILES_BUCKET*'].value_counts().index)\n",
    "plt.show()"
   ]
  },
  {
   "cell_type": "markdown",
   "metadata": {
    "papermill": {
     "duration": 0.079295,
     "end_time": "2021-06-23T11:21:47.693085",
     "exception": false,
     "start_time": "2021-06-23T11:21:47.613790",
     "status": "completed"
    },
    "tags": []
   },
   "source": [
    "**One can see that there are more number of short distanced trips**\n"
   ]
  },
  {
   "cell_type": "code",
   "execution_count": 46,
   "metadata": {
    "execution": {
     "iopub.execute_input": "2021-06-23T11:21:47.871008Z",
     "iopub.status.busy": "2021-06-23T11:21:47.860817Z",
     "iopub.status.idle": "2021-06-23T11:21:48.070292Z",
     "shell.execute_reply": "2021-06-23T11:21:48.070876Z",
     "shell.execute_reply.started": "2021-05-27T08:58:26.205045Z"
    },
    "papermill": {
     "duration": 0.298875,
     "end_time": "2021-06-23T11:21:48.071059",
     "exception": false,
     "start_time": "2021-06-23T11:21:47.772184",
     "status": "completed"
    },
    "tags": []
   },
   "outputs": [
    {
     "name": "stderr",
     "output_type": "stream",
     "text": [
      "/opt/conda/lib/python3.7/site-packages/seaborn/_decorators.py:43: FutureWarning: Pass the following variable as a keyword arg: x. From version 0.12, the only valid positional argument will be `data`, and passing other arguments without an explicit keyword will result in an error or misinterpretation.\n",
      "  FutureWarning\n"
     ]
    },
    {
     "data": {
      "image/png": "[encoded data removed]",
      "text/plain": [
       "<Figure size 720x504 with 1 Axes>"
      ]
     },
     "metadata": {
      "needs_background": "light"
     },
     "output_type": "display_data"
    }
   ],
   "source": [
    "plt.figure(figsize=(10,7))\n",
    "sns.countplot(uber_df['MILES_BUCKET*'], hue=uber_df['DAY/NIGHT*'], palette='cubehelix',\n",
    "              order = uber_df['MILES_BUCKET*'].value_counts().index)\n",
    "plt.show()"
   ]
  },
  {
   "cell_type": "markdown",
   "metadata": {
    "papermill": {
     "duration": 0.078828,
     "end_time": "2021-06-23T11:21:48.231337",
     "exception": false,
     "start_time": "2021-06-23T11:21:48.152509",
     "status": "completed"
    },
    "tags": []
   },
   "source": [
    "**Both highest number of Day and Night Rides were below 10miles of a distance**"
   ]
  },
  {
   "cell_type": "code",
   "execution_count": 47,
   "metadata": {
    "execution": {
     "iopub.execute_input": "2021-06-23T11:21:48.392926Z",
     "iopub.status.busy": "2021-06-23T11:21:48.391906Z",
     "iopub.status.idle": "2021-06-23T11:21:48.403673Z",
     "shell.execute_reply": "2021-06-23T11:21:48.404115Z",
     "shell.execute_reply.started": "2021-05-27T07:36:39.973918Z"
    },
    "papermill": {
     "duration": 0.094143,
     "end_time": "2021-06-23T11:21:48.404302",
     "exception": false,
     "start_time": "2021-06-23T11:21:48.310159",
     "status": "completed"
    },
    "tags": []
   },
   "outputs": [
    {
     "data": {
      "text/plain": [
       "count    652.000000\n",
       "mean      25.263642\n",
       "std       16.827915\n",
       "min        6.000000\n",
       "25%       16.553571\n",
       "50%       22.219780\n",
       "75%       29.120455\n",
       "max      228.000000\n",
       "Name: Speed_KM, dtype: float64"
      ]
     },
     "execution_count": 47,
     "metadata": {},
     "output_type": "execute_result"
    }
   ],
   "source": [
    "# calculate trip speed for each trip\n",
    "uber_df['Duration_hours'] = uber_df['DIFF'] / 60\n",
    "uber_df['Speed_KM'] = uber_df['MILES*'] / uber_df['Duration_hours']\n",
    "uber_df['Speed_KM'].describe()"
   ]
  },
  {
   "cell_type": "code",
   "execution_count": 48,
   "metadata": {
    "execution": {
     "iopub.execute_input": "2021-06-23T11:21:48.567290Z",
     "iopub.status.busy": "2021-06-23T11:21:48.566335Z",
     "iopub.status.idle": "2021-06-23T11:21:48.844827Z",
     "shell.execute_reply": "2021-06-23T11:21:48.845314Z",
     "shell.execute_reply.started": "2021-05-27T08:30:50.856772Z"
    },
    "papermill": {
     "duration": 0.362124,
     "end_time": "2021-06-23T11:21:48.845502",
     "exception": false,
     "start_time": "2021-06-23T11:21:48.483378",
     "status": "completed"
    },
    "tags": []
   },
   "outputs": [
    {
     "name": "stderr",
     "output_type": "stream",
     "text": [
      "/opt/conda/lib/python3.7/site-packages/seaborn/distributions.py:2557: FutureWarning: `distplot` is a deprecated function and will be removed in a future version. Please adapt your code to use either `displot` (a figure-level function with similar flexibility) or `histplot` (an axes-level function for histograms).\n",
      "  warnings.warn(msg, FutureWarning)\n"
     ]
    },
    {
     "data": {
      "text/plain": [
       "<AxesSubplot:xlabel='Speed_KM', ylabel='Density'>"
      ]
     },
     "execution_count": 48,
     "metadata": {},
     "output_type": "execute_result"
    },
    {
     "data": {
      "image/png": "[encoded data removed]",
      "text/plain": [
       "<Figure size 864x504 with 1 Axes>"
      ]
     },
     "metadata": {
      "needs_background": "light"
     },
     "output_type": "display_data"
    }
   ],
   "source": [
    "plt.figure(figsize=(12,7))\n",
    "sns.distplot(uber_df['Speed_KM'])"
   ]
  },
  {
   "cell_type": "markdown",
   "metadata": {
    "papermill": {
     "duration": 0.081696,
     "end_time": "2021-06-23T11:21:49.009627",
     "exception": false,
     "start_time": "2021-06-23T11:21:48.927931",
     "status": "completed"
    },
    "tags": []
   },
   "source": [
    "**The average speed is little right skewed here**"
   ]
  },
  {
   "cell_type": "markdown",
   "metadata": {
    "papermill": {
     "duration": 0.081387,
     "end_time": "2021-06-23T11:21:49.172874",
     "exception": false,
     "start_time": "2021-06-23T11:21:49.091487",
     "status": "completed"
    },
    "tags": []
   },
   "source": [
    "<a id=\"4\"></a>\n",
    "<font color=\"darkslateblue\" size=+2.5><b>4.Category and Purpose </b></font>\n",
    "\n"
   ]
  },
  {
   "cell_type": "code",
   "execution_count": 49,
   "metadata": {
    "execution": {
     "iopub.execute_input": "2021-06-23T11:21:49.343232Z",
     "iopub.status.busy": "2021-06-23T11:21:49.342468Z",
     "iopub.status.idle": "2021-06-23T11:21:49.346340Z",
     "shell.execute_reply": "2021-06-23T11:21:49.345842Z",
     "shell.execute_reply.started": "2021-05-27T07:45:04.826179Z"
    },
    "papermill": {
     "duration": 0.092929,
     "end_time": "2021-06-23T11:21:49.346479",
     "exception": false,
     "start_time": "2021-06-23T11:21:49.253550",
     "status": "completed"
    },
    "tags": []
   },
   "outputs": [
    {
     "data": {
      "text/plain": [
       "Business    646\n",
       "Personal      6\n",
       "Name: CATEGORY*, dtype: int64"
      ]
     },
     "execution_count": 49,
     "metadata": {},
     "output_type": "execute_result"
    }
   ],
   "source": [
    "uber_df['CATEGORY*'].value_counts()"
   ]
  },
  {
   "cell_type": "markdown",
   "metadata": {
    "papermill": {
     "duration": 0.081607,
     "end_time": "2021-06-23T11:21:49.510924",
     "exception": false,
     "start_time": "2021-06-23T11:21:49.429317",
     "status": "completed"
    },
    "tags": []
   },
   "source": [
    "**Most trips are in the business category**"
   ]
  },
  {
   "cell_type": "code",
   "execution_count": 50,
   "metadata": {
    "execution": {
     "iopub.execute_input": "2021-06-23T11:21:49.697168Z",
     "iopub.status.busy": "2021-06-23T11:21:49.686473Z",
     "iopub.status.idle": "2021-06-23T11:21:49.800455Z",
     "shell.execute_reply": "2021-06-23T11:21:49.801151Z",
     "shell.execute_reply.started": "2021-05-27T07:47:50.673231Z"
    },
    "papermill": {
     "duration": 0.207613,
     "end_time": "2021-06-23T11:21:49.801387",
     "exception": false,
     "start_time": "2021-06-23T11:21:49.593774",
     "status": "completed"
    },
    "tags": []
   },
   "outputs": [
    {
     "name": "stderr",
     "output_type": "stream",
     "text": [
      "/opt/conda/lib/python3.7/site-packages/seaborn/_decorators.py:43: FutureWarning: Pass the following variable as a keyword arg: x. From version 0.12, the only valid positional argument will be `data`, and passing other arguments without an explicit keyword will result in an error or misinterpretation.\n",
      "  FutureWarning\n"
     ]
    },
    {
     "data": {
      "image/png": "[encoded data removed]",
      "text/plain": [
       "<Figure size 576x432 with 1 Axes>"
      ]
     },
     "metadata": {
      "needs_background": "light"
     },
     "output_type": "display_data"
    }
   ],
   "source": [
    "plt.figure(figsize=(8,6))\n",
    "sns.countplot(uber_df['CATEGORY*'])\n",
    "plt.show()"
   ]
  },
  {
   "cell_type": "code",
   "execution_count": 51,
   "metadata": {
    "execution": {
     "iopub.execute_input": "2021-06-23T11:21:49.974960Z",
     "iopub.status.busy": "2021-06-23T11:21:49.973947Z",
     "iopub.status.idle": "2021-06-23T11:21:49.978519Z",
     "shell.execute_reply": "2021-06-23T11:21:49.977898Z",
     "shell.execute_reply.started": "2021-05-27T07:48:39.064619Z"
    },
    "papermill": {
     "duration": 0.094434,
     "end_time": "2021-06-23T11:21:49.978662",
     "exception": false,
     "start_time": "2021-06-23T11:21:49.884228",
     "status": "completed"
    },
    "tags": []
   },
   "outputs": [
    {
     "data": {
      "text/plain": [
       "Meeting            186\n",
       "Meal/Entertain     160\n",
       "Errand/Supplies    128\n",
       "Customer Visit     101\n",
       "Temporary Site      50\n",
       "Between Offices     18\n",
       "Moving               4\n",
       "Airport/Travel       3\n",
       "Commute              1\n",
       "Charity ($)          1\n",
       "Name: PURPOSE*, dtype: int64"
      ]
     },
     "execution_count": 51,
     "metadata": {},
     "output_type": "execute_result"
    }
   ],
   "source": [
    "#Purpose\n",
    "uber_df['PURPOSE*'].value_counts()"
   ]
  },
  {
   "cell_type": "markdown",
   "metadata": {
    "papermill": {
     "duration": 0.082979,
     "end_time": "2021-06-23T11:21:50.145200",
     "exception": false,
     "start_time": "2021-06-23T11:21:50.062221",
     "status": "completed"
    },
    "tags": []
   },
   "source": [
    "**Most trips are for meetings**"
   ]
  },
  {
   "cell_type": "code",
   "execution_count": 52,
   "metadata": {
    "execution": {
     "iopub.execute_input": "2021-06-23T11:21:50.492737Z",
     "iopub.status.busy": "2021-06-23T11:21:50.321431Z",
     "iopub.status.idle": "2021-06-23T11:21:50.658102Z",
     "shell.execute_reply": "2021-06-23T11:21:50.658624Z",
     "shell.execute_reply.started": "2021-05-27T08:44:21.457912Z"
    },
    "papermill": {
     "duration": 0.430056,
     "end_time": "2021-06-23T11:21:50.658802",
     "exception": false,
     "start_time": "2021-06-23T11:21:50.228746",
     "status": "completed"
    },
    "tags": []
   },
   "outputs": [
    {
     "name": "stderr",
     "output_type": "stream",
     "text": [
      "/opt/conda/lib/python3.7/site-packages/seaborn/_decorators.py:43: FutureWarning: Pass the following variable as a keyword arg: x. From version 0.12, the only valid positional argument will be `data`, and passing other arguments without an explicit keyword will result in an error or misinterpretation.\n",
      "  FutureWarning\n"
     ]
    },
    {
     "data": {
      "image/png": "[encoded data removed]",
      "text/plain": [
       "<Figure size 1080x432 with 1 Axes>"
      ]
     },
     "metadata": {
      "needs_background": "light"
     },
     "output_type": "display_data"
    }
   ],
   "source": [
    "plt.figure(figsize=(15,6))\n",
    "sns.countplot(uber_df['PURPOSE*'], order=uber_df['PURPOSE*'].value_counts().index, palette='Set2')\n",
    "plt.show()"
   ]
  },
  {
   "cell_type": "code",
   "execution_count": 53,
   "metadata": {
    "execution": {
     "iopub.execute_input": "2021-06-23T11:21:50.832009Z",
     "iopub.status.busy": "2021-06-23T11:21:50.831162Z",
     "iopub.status.idle": "2021-06-23T11:21:50.840497Z",
     "shell.execute_reply": "2021-06-23T11:21:50.839935Z",
     "shell.execute_reply.started": "2021-05-27T07:50:36.452464Z"
    },
    "papermill": {
     "duration": 0.098068,
     "end_time": "2021-06-23T11:21:50.840629",
     "exception": false,
     "start_time": "2021-06-23T11:21:50.742561",
     "status": "completed"
    },
    "tags": []
   },
   "outputs": [
    {
     "data": {
      "text/plain": [
       "PURPOSE*\n",
       "Commute            180.200000\n",
       "Customer Visit      20.688119\n",
       "Meeting             15.276344\n",
       "Charity ($)         15.100000\n",
       "Between Offices     10.944444\n",
       "Temporary Site      10.474000\n",
       "Meal/Entertain       5.698125\n",
       "Airport/Travel       5.500000\n",
       "Moving               4.550000\n",
       "Errand/Supplies      3.968750\n",
       "Name: MILES*, dtype: float64"
      ]
     },
     "execution_count": 53,
     "metadata": {},
     "output_type": "execute_result"
    }
   ],
   "source": [
    "#Average distance traveled for each activity\n",
    "uber_df.groupby('PURPOSE*').mean()['MILES*'].sort_values(ascending = False)"
   ]
  },
  {
   "cell_type": "code",
   "execution_count": 54,
   "metadata": {
    "execution": {
     "iopub.execute_input": "2021-06-23T11:21:51.016582Z",
     "iopub.status.busy": "2021-06-23T11:21:51.015515Z",
     "iopub.status.idle": "2021-06-23T11:21:51.023488Z",
     "shell.execute_reply": "2021-06-23T11:21:51.022960Z",
     "shell.execute_reply.started": "2021-05-27T07:51:46.515225Z"
    },
    "papermill": {
     "duration": 0.09963,
     "end_time": "2021-06-23T11:21:51.023631",
     "exception": false,
     "start_time": "2021-06-23T11:21:50.924001",
     "status": "completed"
    },
    "tags": []
   },
   "outputs": [
    {
     "data": {
      "text/plain": [
       "PURPOSE*\n",
       "Meeting            2841.4\n",
       "Customer Visit     2089.5\n",
       "Meal/Entertain      911.7\n",
       "Temporary Site      523.7\n",
       "Errand/Supplies     508.0\n",
       "Between Offices     197.0\n",
       "Commute             180.2\n",
       "Moving               18.2\n",
       "Airport/Travel       16.5\n",
       "Charity ($)          15.1\n",
       "Name: MILES*, dtype: float64"
      ]
     },
     "execution_count": 54,
     "metadata": {},
     "output_type": "execute_result"
    }
   ],
   "source": [
    "# How many miles was earned per category and purpose ?\n",
    "uber_df.groupby('PURPOSE*').sum()['MILES*'].sort_values(ascending = False)"
   ]
  },
  {
   "cell_type": "code",
   "execution_count": 55,
   "metadata": {
    "execution": {
     "iopub.execute_input": "2021-06-23T11:21:51.203625Z",
     "iopub.status.busy": "2021-06-23T11:21:51.200138Z",
     "iopub.status.idle": "2021-06-23T11:21:51.207321Z",
     "shell.execute_reply": "2021-06-23T11:21:51.206693Z",
     "shell.execute_reply.started": "2021-05-27T07:52:31.254825Z"
    },
    "papermill": {
     "duration": 0.098727,
     "end_time": "2021-06-23T11:21:51.207460",
     "exception": false,
     "start_time": "2021-06-23T11:21:51.108733",
     "status": "completed"
    },
    "tags": []
   },
   "outputs": [
    {
     "data": {
      "text/plain": [
       "CATEGORY*\n",
       "Business    7087.8\n",
       "Personal     213.5\n",
       "Name: MILES*, dtype: float64"
      ]
     },
     "execution_count": 55,
     "metadata": {},
     "output_type": "execute_result"
    }
   ],
   "source": [
    "#How many miles was earned per category and purpose ?\n",
    "uber_df.groupby('CATEGORY*').sum()['MILES*'].sort_values(ascending = False)"
   ]
  },
  {
   "cell_type": "code",
   "execution_count": 56,
   "metadata": {
    "execution": {
     "iopub.execute_input": "2021-06-23T11:21:51.386340Z",
     "iopub.status.busy": "2021-06-23T11:21:51.385672Z",
     "iopub.status.idle": "2021-06-23T11:21:51.577167Z",
     "shell.execute_reply": "2021-06-23T11:21:51.576637Z",
     "shell.execute_reply.started": "2021-05-27T08:37:45.106142Z"
    },
    "papermill": {
     "duration": 0.285347,
     "end_time": "2021-06-23T11:21:51.577328",
     "exception": false,
     "start_time": "2021-06-23T11:21:51.291981",
     "status": "completed"
    },
    "tags": []
   },
   "outputs": [
    {
     "name": "stderr",
     "output_type": "stream",
     "text": [
      "/opt/conda/lib/python3.7/site-packages/seaborn/_decorators.py:43: FutureWarning: Pass the following variable as a keyword arg: x. From version 0.12, the only valid positional argument will be `data`, and passing other arguments without an explicit keyword will result in an error or misinterpretation.\n",
      "  FutureWarning\n"
     ]
    },
    {
     "data": {
      "image/png": "[encoded data removed]",
      "text/plain": [
       "<Figure size 648x360 with 1 Axes>"
      ]
     },
     "metadata": {
      "needs_background": "light"
     },
     "output_type": "display_data"
    }
   ],
   "source": [
    "#Categorywise trip per day\n",
    "plt.figure(figsize=(9,5))\n",
    "a=sns.countplot(uber_df['day_of_week'],hue=uber_df['CATEGORY*'],palette=[\"#FF3333\" ,\"#00CC00\"],\n",
    "                order=uber_df['day_of_week'].value_counts().index)\n",
    "plt.legend(bbox_to_anchor=(1.05, 0.95), loc=2)\n",
    "plt.show()"
   ]
  },
  {
   "cell_type": "code",
   "execution_count": 57,
   "metadata": {
    "execution": {
     "iopub.execute_input": "2021-06-23T11:21:51.765286Z",
     "iopub.status.busy": "2021-06-23T11:21:51.764587Z",
     "iopub.status.idle": "2021-06-23T11:21:52.016956Z",
     "shell.execute_reply": "2021-06-23T11:21:52.017483Z",
     "shell.execute_reply.started": "2021-05-27T08:39:02.926805Z"
    },
    "papermill": {
     "duration": 0.352369,
     "end_time": "2021-06-23T11:21:52.017687",
     "exception": false,
     "start_time": "2021-06-23T11:21:51.665318",
     "status": "completed"
    },
    "tags": []
   },
   "outputs": [
    {
     "name": "stderr",
     "output_type": "stream",
     "text": [
      "/opt/conda/lib/python3.7/site-packages/seaborn/_decorators.py:43: FutureWarning: Pass the following variable as a keyword arg: x. From version 0.12, the only valid positional argument will be `data`, and passing other arguments without an explicit keyword will result in an error or misinterpretation.\n",
      "  FutureWarning\n"
     ]
    },
    {
     "data": {
      "image/png": "[encoded data removed]",
      "text/plain": [
       "<Figure size 648x360 with 1 Axes>"
      ]
     },
     "metadata": {
      "needs_background": "light"
     },
     "output_type": "display_data"
    }
   ],
   "source": [
    "# Monthly Ride based on category\n",
    "plt.figure(figsize=(9,5))\n",
    "sns.countplot(uber_df['month'],hue=uber_df['CATEGORY*'],palette=\"Set1\",\n",
    "              order=uber_df['month'].value_counts().index)\n",
    "plt.show()"
   ]
  },
  {
   "cell_type": "markdown",
   "metadata": {
    "papermill": {
     "duration": 0.087016,
     "end_time": "2021-06-23T11:21:52.191906",
     "exception": false,
     "start_time": "2021-06-23T11:21:52.104890",
     "status": "completed"
    },
    "tags": []
   },
   "source": [
    "<a id=\"5\"></a>\n",
    "<font color=\"darkslateblue\" size=+2.5><b>5. Conclusion</b></font>\n"
   ]
  },
  {
   "cell_type": "markdown",
   "metadata": {
    "papermill": {
     "duration": 0.085839,
     "end_time": "2021-06-23T11:21:52.364239",
     "exception": false,
     "start_time": "2021-06-23T11:21:52.278400",
     "status": "completed"
    },
    "tags": []
   },
   "source": [
    "- The miles driven ranges from 0.5 miles to 12204 miles with an average of 21 miles\n",
    "- There are 131 unique start destinations in the dataset\n",
    "- There are 137 unique start destinations in the dataset\n",
    "- Cary is most poplular starting point for this driver.\n",
    "- Cary also features in the most popular stop destinations\n",
    "- Cary and Durham are the farthest from each other\n",
    "- The most popular start to destination pair is Cary-Morrisville\n",
    "- Ride durations range from 2 minutes to 330 minutes with an average duration of 23 minutes\n",
    "- December has maximum number of trips and August has the least\n",
    "- Friday has the maximum number of trips\n",
    "- Longest average distance is covered in Oct and least in Dec\n",
    "- Afternoons and evenings seem to have the maximum number of trips\n",
    "- Most trips are in the business category\n",
    "- Most trips are for meetings\n",
    "- There are more number of short distanced trips\n",
    "- There are more number of day trips\n",
    "- Both highest number of Day and Night Rides were below 10miles of a distance\n",
    "- Highest number of Day rides were on Friday while Night rides were on Sunday/Thursday"
   ]
  }
 ],
 "metadata": {
  "kernelspec": {
   "display_name": "Python 3",
   "language": "python",
   "name": "python3"
  },
  "language_info": {
   "codemirror_mode": {
    "name": "ipython",
    "version": 3
   },
   "file_extension": ".py",
   "mimetype": "text/x-python",
   "name": "python",
   "nbconvert_exporter": "python",
   "pygments_lexer": "ipython3",
   "version": "3.7.7"
  },
  "papermill": {
   "default_parameters": {},
   "duration": 28.09417,
   "end_time": "2021-06-23T11:21:53.160543",
   "environment_variables": {},
   "exception": null,
   "input_path": "__notebook__.ipynb",
   "output_path": "__notebook__.ipynb",
   "parameters": {},
   "start_time": "2021-06-23T11:21:25.066373",
   "version": "2.3.3"
  }
 },
 "nbformat": 4,
 "nbformat_minor": 5
}
